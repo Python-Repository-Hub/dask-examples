{
 "cells": [
  {
   "cell_type": "markdown",
   "metadata": {},
   "source": [
    "# Dask Bags\n",
    "\n",
    "\n",
    "Dask Bag implements operations like `map`, `filter`, `groupby` and aggregations on collections of Python objects. It does this in parallel and in small memory using Python iterators. It is similar to a parallel version of itertools or a Pythonic version of the PySpark RDD.\n",
    "\n",
    "Dask Bags are often used to do simple preprocessing on log files, JSON records, or other user defined Python objects.\n",
    "\n",
    "Full API documentation is available here: http://docs.dask.org/en/latest/bag-api.html"
   ]
  },
  {
   "cell_type": "markdown",
   "metadata": {},
   "source": [
    "## Start Dask Client for Dashboard\n",
    "\n",
    "Starting the Dask Client is optional.  It will provide a dashboard which \n",
    "is useful to gain insight on the computation.  \n",
    "\n",
    "The link to the dashboard will become visible when you create the client below.  We recommend having it open on one side of your screen while using your notebook on the other side.  This can take some effort to arrange your windows, but seeing them both at the same is very useful when learning."
   ]
  },
  {
   "cell_type": "code",
   "execution_count": 1,
   "metadata": {
    "execution": {
     "iopub.execute_input": "2021-03-12T23:13:56.461339Z",
     "iopub.status.busy": "2021-03-12T23:13:56.460724Z",
     "iopub.status.idle": "2021-03-12T23:13:59.281938Z",
     "shell.execute_reply": "2021-03-12T23:13:59.282652Z"
    }
   },
   "outputs": [
    {
     "name": "stderr",
     "output_type": "stream",
     "text": [
      "/usr/share/miniconda3/envs/dask-examples/lib/python3.8/site-packages/distributed/node.py:151: UserWarning: Port 8787 is already in use.\n",
      "Perhaps you already have a cluster running?\n",
      "Hosting the HTTP server on port 46423 instead\n",
      "  warnings.warn(\n"
     ]
    },
    {
     "data": {
      "text/html": [
       "<table style=\"border: 2px solid white;\">\n",
       "<tr>\n",
       "<td style=\"vertical-align: top; border: 0px solid white\">\n",
       "<h3 style=\"text-align: left;\">Client</h3>\n",
       "<ul style=\"text-align: left; list-style: none; margin: 0; padding: 0;\">\n",
       "  <li><b>Scheduler: </b>tcp://127.0.0.1:34729</li>\n",
       "  <li><b>Dashboard: </b><a href='http://127.0.0.1:46423/status' target='_blank'>http://127.0.0.1:46423/status</a></li>\n",
       "</ul>\n",
       "</td>\n",
       "<td style=\"vertical-align: top; border: 0px solid white\">\n",
       "<h3 style=\"text-align: left;\">Cluster</h3>\n",
       "<ul style=\"text-align: left; list-style:none; margin: 0; padding: 0;\">\n",
       "  <li><b>Workers: </b>4</li>\n",
       "  <li><b>Cores: </b>4</li>\n",
       "  <li><b>Memory: </b>7.29 GB</li>\n",
       "</ul>\n",
       "</td>\n",
       "</tr>\n",
       "</table>"
      ],
      "text/plain": [
       "<Client: 'tcp://127.0.0.1:34729' processes=4 threads=4, memory=7.29 GB>"
      ]
     },
     "execution_count": 1,
     "metadata": {},
     "output_type": "execute_result"
    }
   ],
   "source": [
    "from dask.distributed import Client, progress\n",
    "client = Client(n_workers=4, threads_per_worker=1)\n",
    "client"
   ]
  },
  {
   "cell_type": "markdown",
   "metadata": {},
   "source": [
    "## Create Random Data\n",
    "\n",
    "We create a random set of record data and store it to disk as many JSON files.  This will serve as our data for this notebook."
   ]
  },
  {
   "cell_type": "code",
   "execution_count": 2,
   "metadata": {
    "execution": {
     "iopub.execute_input": "2021-03-12T23:13:59.288999Z",
     "iopub.status.busy": "2021-03-12T23:13:59.288547Z",
     "iopub.status.idle": "2021-03-12T23:14:01.277128Z",
     "shell.execute_reply": "2021-03-12T23:14:01.276567Z"
    }
   },
   "outputs": [
    {
     "data": {
      "text/plain": [
       "['/home/runner/work/dask-examples/dask-examples/data/0.json',\n",
       " '/home/runner/work/dask-examples/dask-examples/data/1.json',\n",
       " '/home/runner/work/dask-examples/dask-examples/data/2.json',\n",
       " '/home/runner/work/dask-examples/dask-examples/data/3.json',\n",
       " '/home/runner/work/dask-examples/dask-examples/data/4.json',\n",
       " '/home/runner/work/dask-examples/dask-examples/data/5.json',\n",
       " '/home/runner/work/dask-examples/dask-examples/data/6.json',\n",
       " '/home/runner/work/dask-examples/dask-examples/data/7.json',\n",
       " '/home/runner/work/dask-examples/dask-examples/data/8.json',\n",
       " '/home/runner/work/dask-examples/dask-examples/data/9.json']"
      ]
     },
     "execution_count": 2,
     "metadata": {},
     "output_type": "execute_result"
    }
   ],
   "source": [
    "import dask\n",
    "import json\n",
    "import os\n",
    "\n",
    "os.makedirs('data', exist_ok=True)              # Create data/ directory\n",
    "\n",
    "b = dask.datasets.make_people()                 # Make records of people\n",
    "b.map(json.dumps).to_textfiles('data/*.json')   # Encode as JSON, write to disk"
   ]
  },
  {
   "cell_type": "markdown",
   "metadata": {},
   "source": [
    "## Read JSON data\n",
    "\n",
    "Now that we have some JSON data in a file lets take a look at it with Dask Bag and Python JSON module."
   ]
  },
  {
   "cell_type": "code",
   "execution_count": 3,
   "metadata": {
    "execution": {
     "iopub.execute_input": "2021-03-12T23:14:01.281190Z",
     "iopub.status.busy": "2021-03-12T23:14:01.280701Z",
     "iopub.status.idle": "2021-03-12T23:14:01.461763Z",
     "shell.execute_reply": "2021-03-12T23:14:01.462957Z"
    }
   },
   "outputs": [
    {
     "name": "stdout",
     "output_type": "stream",
     "text": [
      "{\"age\": 59, \"name\": [\"Olevia\", \"Frazier\"], \"occupation\": \"Shop Manager\", \"telephone\": \"277.930.0371\", \"address\": {\"address\": \"1383 Hillway Promenade\", \"city\": \"Gretna\"}, \"credit-card\": {\"number\": \"3464 767413 59033\", \"expiration-date\": \"02/21\"}}\r\n",
      "{\"age\": 30, \"name\": [\"Emely\", \"Gomez\"], \"occupation\": \"Hosiery Worker\", \"telephone\": \"1-358-738-0556\", \"address\": {\"address\": \"902 Pretor Run\", \"city\": \"Flower Mound\"}, \"credit-card\": {\"number\": \"2601 1391 2520 6685\", \"expiration-date\": \"09/17\"}}\r\n"
     ]
    }
   ],
   "source": [
    "!head -n 2 data/0.json"
   ]
  },
  {
   "cell_type": "code",
   "execution_count": 4,
   "metadata": {
    "execution": {
     "iopub.execute_input": "2021-03-12T23:14:01.467542Z",
     "iopub.status.busy": "2021-03-12T23:14:01.467080Z",
     "iopub.status.idle": "2021-03-12T23:14:01.475342Z",
     "shell.execute_reply": "2021-03-12T23:14:01.476003Z"
    }
   },
   "outputs": [
    {
     "data": {
      "text/plain": [
       "dask.bag<loads, npartitions=10>"
      ]
     },
     "execution_count": 4,
     "metadata": {},
     "output_type": "execute_result"
    }
   ],
   "source": [
    "import dask.bag as db\n",
    "import json\n",
    "\n",
    "b = db.read_text('data/*.json').map(json.loads)\n",
    "b"
   ]
  },
  {
   "cell_type": "code",
   "execution_count": 5,
   "metadata": {
    "execution": {
     "iopub.execute_input": "2021-03-12T23:14:01.480876Z",
     "iopub.status.busy": "2021-03-12T23:14:01.480397Z",
     "iopub.status.idle": "2021-03-12T23:14:01.503008Z",
     "shell.execute_reply": "2021-03-12T23:14:01.503970Z"
    }
   },
   "outputs": [
    {
     "data": {
      "text/plain": [
       "({'age': 59,\n",
       "  'name': ['Olevia', 'Frazier'],\n",
       "  'occupation': 'Shop Manager',\n",
       "  'telephone': '277.930.0371',\n",
       "  'address': {'address': '1383 Hillway Promenade', 'city': 'Gretna'},\n",
       "  'credit-card': {'number': '3464 767413 59033', 'expiration-date': '02/21'}},\n",
       " {'age': 30,\n",
       "  'name': ['Emely', 'Gomez'],\n",
       "  'occupation': 'Hosiery Worker',\n",
       "  'telephone': '1-358-738-0556',\n",
       "  'address': {'address': '902 Pretor Run', 'city': 'Flower Mound'},\n",
       "  'credit-card': {'number': '2601 1391 2520 6685',\n",
       "   'expiration-date': '09/17'}})"
      ]
     },
     "execution_count": 5,
     "metadata": {},
     "output_type": "execute_result"
    }
   ],
   "source": [
    "b.take(2)"
   ]
  },
  {
   "cell_type": "markdown",
   "metadata": {},
   "source": [
    "## Map, Filter, Aggregate\n",
    "\n",
    "We can process this data by filtering out only certain records of interest, mapping functions over it to process our data, and aggregating those results to a total value."
   ]
  },
  {
   "cell_type": "code",
   "execution_count": 6,
   "metadata": {
    "execution": {
     "iopub.execute_input": "2021-03-12T23:14:01.507368Z",
     "iopub.status.busy": "2021-03-12T23:14:01.506290Z",
     "iopub.status.idle": "2021-03-12T23:14:01.527379Z",
     "shell.execute_reply": "2021-03-12T23:14:01.528040Z"
    }
   },
   "outputs": [
    {
     "data": {
      "text/plain": [
       "({'age': 59,\n",
       "  'name': ['Olevia', 'Frazier'],\n",
       "  'occupation': 'Shop Manager',\n",
       "  'telephone': '277.930.0371',\n",
       "  'address': {'address': '1383 Hillway Promenade', 'city': 'Gretna'},\n",
       "  'credit-card': {'number': '3464 767413 59033', 'expiration-date': '02/21'}},\n",
       " {'age': 44,\n",
       "  'name': ['Bula', 'Newman'],\n",
       "  'occupation': 'Hairdresser',\n",
       "  'telephone': '1-788-321-8035',\n",
       "  'address': {'address': '146 Galewood Plantation', 'city': 'Ponca City'},\n",
       "  'credit-card': {'number': '4805 9520 4978 4714',\n",
       "   'expiration-date': '01/18'}})"
      ]
     },
     "execution_count": 6,
     "metadata": {},
     "output_type": "execute_result"
    }
   ],
   "source": [
    "b.filter(lambda record: record['age'] > 30).take(2)  # Select only people over 30"
   ]
  },
  {
   "cell_type": "code",
   "execution_count": 7,
   "metadata": {
    "execution": {
     "iopub.execute_input": "2021-03-12T23:14:01.531592Z",
     "iopub.status.busy": "2021-03-12T23:14:01.530530Z",
     "iopub.status.idle": "2021-03-12T23:14:01.550109Z",
     "shell.execute_reply": "2021-03-12T23:14:01.550990Z"
    }
   },
   "outputs": [
    {
     "data": {
      "text/plain": [
       "('Shop Manager', 'Hosiery Worker')"
      ]
     },
     "execution_count": 7,
     "metadata": {},
     "output_type": "execute_result"
    }
   ],
   "source": [
    "b.map(lambda record: record['occupation']).take(2)  # Select the occupation field"
   ]
  },
  {
   "cell_type": "code",
   "execution_count": 8,
   "metadata": {
    "execution": {
     "iopub.execute_input": "2021-03-12T23:14:01.554975Z",
     "iopub.status.busy": "2021-03-12T23:14:01.553139Z",
     "iopub.status.idle": "2021-03-12T23:14:01.682922Z",
     "shell.execute_reply": "2021-03-12T23:14:01.682250Z"
    }
   },
   "outputs": [
    {
     "data": {
      "text/plain": [
       "10000"
      ]
     },
     "execution_count": 8,
     "metadata": {},
     "output_type": "execute_result"
    }
   ],
   "source": [
    "b.count().compute()  # Count total number of records"
   ]
  },
  {
   "cell_type": "markdown",
   "metadata": {},
   "source": [
    "## Chain computations\n",
    "\n",
    "It is common to do many of these steps in one pipeline, only calling `compute` or `take` at the end."
   ]
  },
  {
   "cell_type": "code",
   "execution_count": 9,
   "metadata": {
    "execution": {
     "iopub.execute_input": "2021-03-12T23:14:01.688092Z",
     "iopub.status.busy": "2021-03-12T23:14:01.687582Z",
     "iopub.status.idle": "2021-03-12T23:14:01.691685Z",
     "shell.execute_reply": "2021-03-12T23:14:01.692040Z"
    }
   },
   "outputs": [
    {
     "data": {
      "text/plain": [
       "dask.bag<topk-aggregate, npartitions=1>"
      ]
     },
     "execution_count": 9,
     "metadata": {},
     "output_type": "execute_result"
    }
   ],
   "source": [
    "result = (b.filter(lambda record: record['age'] > 30)\n",
    "           .map(lambda record: record['occupation'])\n",
    "           .frequencies(sort=True)\n",
    "           .topk(10, key=1))\n",
    "result"
   ]
  },
  {
   "cell_type": "markdown",
   "metadata": {},
   "source": [
    "As with all lazy Dask collections, we need to call `compute` to actually evaluate our result.  The `take` method used in earlier examples is also like `compute` and will also trigger computation."
   ]
  },
  {
   "cell_type": "code",
   "execution_count": 10,
   "metadata": {
    "execution": {
     "iopub.execute_input": "2021-03-12T23:14:01.694159Z",
     "iopub.status.busy": "2021-03-12T23:14:01.693713Z",
     "iopub.status.idle": "2021-03-12T23:14:01.815886Z",
     "shell.execute_reply": "2021-03-12T23:14:01.815133Z"
    }
   },
   "outputs": [
    {
     "data": {
      "text/plain": [
       "[('Taxi Controller', 16),\n",
       " ('Cable TV Installer', 15),\n",
       " ('Production Engineer', 15),\n",
       " ('Anaesthetist', 14),\n",
       " ('Warehousewoman', 13),\n",
       " ('Lift Engineer', 13),\n",
       " ('Scientific Officer', 13),\n",
       " ('Radiologist', 13),\n",
       " ('Scrap Dealer', 13),\n",
       " ('Publisher', 13)]"
      ]
     },
     "execution_count": 10,
     "metadata": {},
     "output_type": "execute_result"
    }
   ],
   "source": [
    "result.compute()"
   ]
  },
  {
   "cell_type": "markdown",
   "metadata": {},
   "source": [
    "## Transform and Store\n",
    "\n",
    "Sometimes we want to compute aggregations as above, but sometimes we want to store results to disk for future analyses.  For that we can use methods like `to_textfiles` and `json.dumps`, or we can convert to Dask Dataframes and use their storage systems, which we'll see more of in the next section."
   ]
  },
  {
   "cell_type": "code",
   "execution_count": 11,
   "metadata": {
    "execution": {
     "iopub.execute_input": "2021-03-12T23:14:01.819856Z",
     "iopub.status.busy": "2021-03-12T23:14:01.819383Z",
     "iopub.status.idle": "2021-03-12T23:14:01.957660Z",
     "shell.execute_reply": "2021-03-12T23:14:01.957203Z"
    }
   },
   "outputs": [
    {
     "data": {
      "text/plain": [
       "['/home/runner/work/dask-examples/dask-examples/data/processed.0.json',\n",
       " '/home/runner/work/dask-examples/dask-examples/data/processed.1.json',\n",
       " '/home/runner/work/dask-examples/dask-examples/data/processed.2.json',\n",
       " '/home/runner/work/dask-examples/dask-examples/data/processed.3.json',\n",
       " '/home/runner/work/dask-examples/dask-examples/data/processed.4.json',\n",
       " '/home/runner/work/dask-examples/dask-examples/data/processed.5.json',\n",
       " '/home/runner/work/dask-examples/dask-examples/data/processed.6.json',\n",
       " '/home/runner/work/dask-examples/dask-examples/data/processed.7.json',\n",
       " '/home/runner/work/dask-examples/dask-examples/data/processed.8.json',\n",
       " '/home/runner/work/dask-examples/dask-examples/data/processed.9.json']"
      ]
     },
     "execution_count": 11,
     "metadata": {},
     "output_type": "execute_result"
    }
   ],
   "source": [
    "(b.filter(lambda record: record['age'] > 30)  # Select records of interest\n",
    "  .map(json.dumps)                            # Convert Python objects to text\n",
    "  .to_textfiles('data/processed.*.json'))     # Write to local disk"
   ]
  },
  {
   "cell_type": "markdown",
   "metadata": {},
   "source": [
    "## Convert to Dask Dataframes\n",
    "\n",
    "Dask Bags are good for reading in initial data, doing a bit of pre-processing, and then handing off to some other more efficient form like Dask Dataframes.  Dask Dataframes use Pandas internally, and so can be much faster on numeric data and also have more complex algorithms.  \n",
    "\n",
    "However, Dask Dataframes also expect data that is organized as flat columns.  It does not support nested JSON data very well (Bag is better for this).\n",
    "\n",
    "Here we make a function to flatten down our nested data structure, map that across our records, and then convert that to a Dask Dataframe."
   ]
  },
  {
   "cell_type": "code",
   "execution_count": 12,
   "metadata": {
    "execution": {
     "iopub.execute_input": "2021-03-12T23:14:01.961205Z",
     "iopub.status.busy": "2021-03-12T23:14:01.960741Z",
     "iopub.status.idle": "2021-03-12T23:14:01.980815Z",
     "shell.execute_reply": "2021-03-12T23:14:01.980341Z"
    }
   },
   "outputs": [
    {
     "data": {
      "text/plain": [
       "({'age': 59,\n",
       "  'name': ['Olevia', 'Frazier'],\n",
       "  'occupation': 'Shop Manager',\n",
       "  'telephone': '277.930.0371',\n",
       "  'address': {'address': '1383 Hillway Promenade', 'city': 'Gretna'},\n",
       "  'credit-card': {'number': '3464 767413 59033', 'expiration-date': '02/21'}},)"
      ]
     },
     "execution_count": 12,
     "metadata": {},
     "output_type": "execute_result"
    }
   ],
   "source": [
    "b.take(1)"
   ]
  },
  {
   "cell_type": "code",
   "execution_count": 13,
   "metadata": {
    "execution": {
     "iopub.execute_input": "2021-03-12T23:14:01.986938Z",
     "iopub.status.busy": "2021-03-12T23:14:01.986432Z",
     "iopub.status.idle": "2021-03-12T23:14:02.006668Z",
     "shell.execute_reply": "2021-03-12T23:14:02.006156Z"
    }
   },
   "outputs": [
    {
     "data": {
      "text/plain": [
       "({'age': 59,\n",
       "  'occupation': 'Shop Manager',\n",
       "  'telephone': '277.930.0371',\n",
       "  'credit-card-number': '3464 767413 59033',\n",
       "  'credit-card-expiration': '02/21',\n",
       "  'name': 'Olevia Frazier',\n",
       "  'street-address': '1383 Hillway Promenade',\n",
       "  'city': 'Gretna'},)"
      ]
     },
     "execution_count": 13,
     "metadata": {},
     "output_type": "execute_result"
    }
   ],
   "source": [
    "def flatten(record):\n",
    "    return {\n",
    "        'age': record['age'],\n",
    "        'occupation': record['occupation'],\n",
    "        'telephone': record['telephone'],\n",
    "        'credit-card-number': record['credit-card']['number'],\n",
    "        'credit-card-expiration': record['credit-card']['expiration-date'],\n",
    "        'name': ' '.join(record['name']),\n",
    "        'street-address': record['address']['address'],\n",
    "        'city': record['address']['city']   \n",
    "    }\n",
    "\n",
    "b.map(flatten).take(1)"
   ]
  },
  {
   "cell_type": "code",
   "execution_count": 14,
   "metadata": {
    "execution": {
     "iopub.execute_input": "2021-03-12T23:14:02.009019Z",
     "iopub.status.busy": "2021-03-12T23:14:02.008547Z",
     "iopub.status.idle": "2021-03-12T23:14:02.589466Z",
     "shell.execute_reply": "2021-03-12T23:14:02.589083Z"
    }
   },
   "outputs": [
    {
     "data": {
      "text/html": [
       "<div>\n",
       "<style scoped>\n",
       "    .dataframe tbody tr th:only-of-type {\n",
       "        vertical-align: middle;\n",
       "    }\n",
       "\n",
       "    .dataframe tbody tr th {\n",
       "        vertical-align: top;\n",
       "    }\n",
       "\n",
       "    .dataframe thead th {\n",
       "        text-align: right;\n",
       "    }\n",
       "</style>\n",
       "<table border=\"1\" class=\"dataframe\">\n",
       "  <thead>\n",
       "    <tr style=\"text-align: right;\">\n",
       "      <th></th>\n",
       "      <th>age</th>\n",
       "      <th>occupation</th>\n",
       "      <th>telephone</th>\n",
       "      <th>credit-card-number</th>\n",
       "      <th>credit-card-expiration</th>\n",
       "      <th>name</th>\n",
       "      <th>street-address</th>\n",
       "      <th>city</th>\n",
       "    </tr>\n",
       "  </thead>\n",
       "  <tbody>\n",
       "    <tr>\n",
       "      <th>0</th>\n",
       "      <td>59</td>\n",
       "      <td>Shop Manager</td>\n",
       "      <td>277.930.0371</td>\n",
       "      <td>3464 767413 59033</td>\n",
       "      <td>02/21</td>\n",
       "      <td>Olevia Frazier</td>\n",
       "      <td>1383 Hillway Promenade</td>\n",
       "      <td>Gretna</td>\n",
       "    </tr>\n",
       "    <tr>\n",
       "      <th>1</th>\n",
       "      <td>30</td>\n",
       "      <td>Hosiery Worker</td>\n",
       "      <td>1-358-738-0556</td>\n",
       "      <td>2601 1391 2520 6685</td>\n",
       "      <td>09/17</td>\n",
       "      <td>Emely Gomez</td>\n",
       "      <td>902 Pretor Run</td>\n",
       "      <td>Flower Mound</td>\n",
       "    </tr>\n",
       "    <tr>\n",
       "      <th>2</th>\n",
       "      <td>44</td>\n",
       "      <td>Hairdresser</td>\n",
       "      <td>1-788-321-8035</td>\n",
       "      <td>4805 9520 4978 4714</td>\n",
       "      <td>01/18</td>\n",
       "      <td>Bula Newman</td>\n",
       "      <td>146 Galewood Plantation</td>\n",
       "      <td>Ponca City</td>\n",
       "    </tr>\n",
       "    <tr>\n",
       "      <th>3</th>\n",
       "      <td>41</td>\n",
       "      <td>Sales Executive</td>\n",
       "      <td>(695) 842-6942</td>\n",
       "      <td>4437 9053 4721 5852</td>\n",
       "      <td>07/20</td>\n",
       "      <td>Lewis Padilla</td>\n",
       "      <td>56 Forest Knolls Close</td>\n",
       "      <td>Ithaca</td>\n",
       "    </tr>\n",
       "    <tr>\n",
       "      <th>4</th>\n",
       "      <td>17</td>\n",
       "      <td>Outdoor Pursuits</td>\n",
       "      <td>901-540-5781</td>\n",
       "      <td>4698 6716 8087 3467</td>\n",
       "      <td>09/19</td>\n",
       "      <td>Max Lyons</td>\n",
       "      <td>163 Battery Caulfield Field</td>\n",
       "      <td>Bentonville</td>\n",
       "    </tr>\n",
       "  </tbody>\n",
       "</table>\n",
       "</div>"
      ],
      "text/plain": [
       "   age        occupation       telephone   credit-card-number  \\\n",
       "0   59      Shop Manager    277.930.0371    3464 767413 59033   \n",
       "1   30    Hosiery Worker  1-358-738-0556  2601 1391 2520 6685   \n",
       "2   44       Hairdresser  1-788-321-8035  4805 9520 4978 4714   \n",
       "3   41   Sales Executive  (695) 842-6942  4437 9053 4721 5852   \n",
       "4   17  Outdoor Pursuits    901-540-5781  4698 6716 8087 3467   \n",
       "\n",
       "  credit-card-expiration            name               street-address  \\\n",
       "0                  02/21  Olevia Frazier       1383 Hillway Promenade   \n",
       "1                  09/17     Emely Gomez               902 Pretor Run   \n",
       "2                  01/18     Bula Newman      146 Galewood Plantation   \n",
       "3                  07/20   Lewis Padilla       56 Forest Knolls Close   \n",
       "4                  09/19       Max Lyons  163 Battery Caulfield Field   \n",
       "\n",
       "           city  \n",
       "0        Gretna  \n",
       "1  Flower Mound  \n",
       "2    Ponca City  \n",
       "3        Ithaca  \n",
       "4   Bentonville  "
      ]
     },
     "execution_count": 14,
     "metadata": {},
     "output_type": "execute_result"
    }
   ],
   "source": [
    "df = b.map(flatten).to_dataframe()\n",
    "df.head()"
   ]
  },
  {
   "cell_type": "markdown",
   "metadata": {},
   "source": [
    "We can now perform the same computation as before, but now using Pandas and Dask dataframe."
   ]
  },
  {
   "cell_type": "code",
   "execution_count": 15,
   "metadata": {
    "execution": {
     "iopub.execute_input": "2021-03-12T23:14:02.594993Z",
     "iopub.status.busy": "2021-03-12T23:14:02.591250Z",
     "iopub.status.idle": "2021-03-12T23:14:03.468475Z",
     "shell.execute_reply": "2021-03-12T23:14:03.469160Z"
    }
   },
   "outputs": [
    {
     "data": {
      "text/plain": [
       "Taxi Controller        16\n",
       "Cable TV Installer     15\n",
       "Production Engineer    15\n",
       "Anaesthetist           14\n",
       "Lift Engineer          13\n",
       "Publisher              13\n",
       "Scientific Officer     13\n",
       "Scrap Dealer           13\n",
       "Radiologist            13\n",
       "Warehousewoman         13\n",
       "Name: occupation, dtype: int64"
      ]
     },
     "execution_count": 15,
     "metadata": {},
     "output_type": "execute_result"
    }
   ],
   "source": [
    "df[df.age > 30].occupation.value_counts().nlargest(10).compute()"
   ]
  },
  {
   "cell_type": "markdown",
   "metadata": {},
   "source": [
    "## Learn More\n",
    "\n",
    "You may be interested in the following links:\n",
    "\n",
    "-  [Dask Bag Documentation](https://docs.dask.org/en/latest/bag.html)\n",
    "-  [API Documentation](http://docs.dask.org/en/latest/bag-api.html)\n",
    "-  [dask tutorial](https://github.com/dask/dask-tutorial), notebook 02, for a more in-depth introduction."
   ]
  }
 ],
 "metadata": {
  "kernelspec": {
   "display_name": "Python 3",
   "language": "python",
   "name": "python3"
  },
  "language_info": {
   "codemirror_mode": {
    "name": "ipython",
    "version": 3
   },
   "file_extension": ".py",
   "mimetype": "text/x-python",
   "name": "python",
   "nbconvert_exporter": "python",
   "pygments_lexer": "ipython3",
   "version": "3.8.8"
  }
 },
 "nbformat": 4,
 "nbformat_minor": 2
}
