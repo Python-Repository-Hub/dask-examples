{
 "cells": [
  {
   "cell_type": "markdown",
   "metadata": {},
   "source": [
    "# Dask Bags\n",
    "\n",
    "\n",
    "Dask Bag implements operations like `map`, `filter`, `groupby` and aggregations on collections of Python objects. It does this in parallel and in small memory using Python iterators. It is similar to a parallel version of itertools or a Pythonic version of the PySpark RDD.\n",
    "\n",
    "Dask Bags are often used to do simple preprocessing on log files, JSON records, or other user defined Python objects.\n",
    "\n",
    "Full API documentation is available here: http://docs.dask.org/en/latest/bag-api.html"
   ]
  },
  {
   "cell_type": "markdown",
   "metadata": {},
   "source": [
    "## Start Dask Client for Dashboard\n",
    "\n",
    "Starting the Dask Client is optional.  It will provide a dashboard which \n",
    "is useful to gain insight on the computation.  \n",
    "\n",
    "The link to the dashboard will become visible when you create the client below.  We recommend having it open on one side of your screen while using your notebook on the other side.  This can take some effort to arrange your windows, but seeing them both at the same is very useful when learning."
   ]
  },
  {
   "cell_type": "code",
   "execution_count": 1,
   "metadata": {
    "execution": {
     "iopub.execute_input": "2021-07-26T20:04:32.076245Z",
     "iopub.status.busy": "2021-07-26T20:04:32.070367Z",
     "iopub.status.idle": "2021-07-26T20:04:35.093301Z",
     "shell.execute_reply": "2021-07-26T20:04:35.093989Z"
    }
   },
   "outputs": [
    {
     "name": "stderr",
     "output_type": "stream",
     "text": [
      "/usr/share/miniconda3/envs/dask-examples/lib/python3.8/site-packages/distributed/node.py:151: UserWarning: Port 8787 is already in use.\n",
      "Perhaps you already have a cluster running?\n",
      "Hosting the HTTP server on port 45513 instead\n",
      "  warnings.warn(\n"
     ]
    },
    {
     "data": {
      "text/html": [
       "<table style=\"border: 2px solid white;\">\n",
       "<tr>\n",
       "<td style=\"vertical-align: top; border: 0px solid white\">\n",
       "<h3 style=\"text-align: left;\">Client</h3>\n",
       "<ul style=\"text-align: left; list-style: none; margin: 0; padding: 0;\">\n",
       "  <li><b>Scheduler: </b>tcp://127.0.0.1:37245</li>\n",
       "  <li><b>Dashboard: </b><a href='http://127.0.0.1:45513/status' target='_blank'>http://127.0.0.1:45513/status</a></li>\n",
       "</ul>\n",
       "</td>\n",
       "<td style=\"vertical-align: top; border: 0px solid white\">\n",
       "<h3 style=\"text-align: left;\">Cluster</h3>\n",
       "<ul style=\"text-align: left; list-style:none; margin: 0; padding: 0;\">\n",
       "  <li><b>Workers: </b>4</li>\n",
       "  <li><b>Cores: </b>4</li>\n",
       "  <li><b>Memory: </b>7.29 GB</li>\n",
       "</ul>\n",
       "</td>\n",
       "</tr>\n",
       "</table>"
      ],
      "text/plain": [
       "<Client: 'tcp://127.0.0.1:37245' processes=4 threads=4, memory=7.29 GB>"
      ]
     },
     "execution_count": 1,
     "metadata": {},
     "output_type": "execute_result"
    }
   ],
   "source": [
    "from dask.distributed import Client, progress\n",
    "client = Client(n_workers=4, threads_per_worker=1)\n",
    "client"
   ]
  },
  {
   "cell_type": "markdown",
   "metadata": {},
   "source": [
    "## Create Random Data\n",
    "\n",
    "We create a random set of record data and store it to disk as many JSON files.  This will serve as our data for this notebook."
   ]
  },
  {
   "cell_type": "code",
   "execution_count": 2,
   "metadata": {
    "execution": {
     "iopub.execute_input": "2021-07-26T20:04:35.097543Z",
     "iopub.status.busy": "2021-07-26T20:04:35.096156Z",
     "iopub.status.idle": "2021-07-26T20:04:36.923349Z",
     "shell.execute_reply": "2021-07-26T20:04:36.922983Z"
    }
   },
   "outputs": [
    {
     "data": {
      "text/plain": [
       "['/home/runner/work/dask-examples/dask-examples/data/0.json',\n",
       " '/home/runner/work/dask-examples/dask-examples/data/1.json',\n",
       " '/home/runner/work/dask-examples/dask-examples/data/2.json',\n",
       " '/home/runner/work/dask-examples/dask-examples/data/3.json',\n",
       " '/home/runner/work/dask-examples/dask-examples/data/4.json',\n",
       " '/home/runner/work/dask-examples/dask-examples/data/5.json',\n",
       " '/home/runner/work/dask-examples/dask-examples/data/6.json',\n",
       " '/home/runner/work/dask-examples/dask-examples/data/7.json',\n",
       " '/home/runner/work/dask-examples/dask-examples/data/8.json',\n",
       " '/home/runner/work/dask-examples/dask-examples/data/9.json']"
      ]
     },
     "execution_count": 2,
     "metadata": {},
     "output_type": "execute_result"
    }
   ],
   "source": [
    "import dask\n",
    "import json\n",
    "import os\n",
    "\n",
    "os.makedirs('data', exist_ok=True)              # Create data/ directory\n",
    "\n",
    "b = dask.datasets.make_people()                 # Make records of people\n",
    "b.map(json.dumps).to_textfiles('data/*.json')   # Encode as JSON, write to disk"
   ]
  },
  {
   "cell_type": "markdown",
   "metadata": {},
   "source": [
    "## Read JSON data\n",
    "\n",
    "Now that we have some JSON data in a file lets take a look at it with Dask Bag and Python JSON module."
   ]
  },
  {
   "cell_type": "code",
   "execution_count": 3,
   "metadata": {
    "execution": {
     "iopub.execute_input": "2021-07-26T20:04:36.926309Z",
     "iopub.status.busy": "2021-07-26T20:04:36.925345Z",
     "iopub.status.idle": "2021-07-26T20:04:37.102053Z",
     "shell.execute_reply": "2021-07-26T20:04:37.101240Z"
    }
   },
   "outputs": [
    {
     "name": "stdout",
     "output_type": "stream",
     "text": [
      "{\"age\": 50, \"name\": [\"Vella\", \"Whitney\"], \"occupation\": \"Product Manager\", \"telephone\": \"219-424-4060\", \"address\": {\"address\": \"1119 Beaumont Viaduct\", \"city\": \"Juneau\"}, \"credit-card\": {\"number\": \"3485 504416 47638\", \"expiration-date\": \"02/18\"}}\r\n",
      "{\"age\": 17, \"name\": [\"Yajaira\", \"Valentine\"], \"occupation\": \"Lift Attendant\", \"telephone\": \"001.973.0960\", \"address\": {\"address\": \"697 Atoll Loop\", \"city\": \"Goose Creek\"}, \"credit-card\": {\"number\": \"3400 838300 21973\", \"expiration-date\": \"05/20\"}}\r\n"
     ]
    }
   ],
   "source": [
    "!head -n 2 data/0.json"
   ]
  },
  {
   "cell_type": "code",
   "execution_count": 4,
   "metadata": {
    "execution": {
     "iopub.execute_input": "2021-07-26T20:04:37.106295Z",
     "iopub.status.busy": "2021-07-26T20:04:37.105837Z",
     "iopub.status.idle": "2021-07-26T20:04:37.113918Z",
     "shell.execute_reply": "2021-07-26T20:04:37.114773Z"
    }
   },
   "outputs": [
    {
     "data": {
      "text/plain": [
       "dask.bag<loads, npartitions=10>"
      ]
     },
     "execution_count": 4,
     "metadata": {},
     "output_type": "execute_result"
    }
   ],
   "source": [
    "import dask.bag as db\n",
    "import json\n",
    "\n",
    "b = db.read_text('data/*.json').map(json.loads)\n",
    "b"
   ]
  },
  {
   "cell_type": "code",
   "execution_count": 5,
   "metadata": {
    "execution": {
     "iopub.execute_input": "2021-07-26T20:04:37.118040Z",
     "iopub.status.busy": "2021-07-26T20:04:37.116848Z",
     "iopub.status.idle": "2021-07-26T20:04:37.138209Z",
     "shell.execute_reply": "2021-07-26T20:04:37.138908Z"
    }
   },
   "outputs": [
    {
     "data": {
      "text/plain": [
       "({'age': 50,\n",
       "  'name': ['Vella', 'Whitney'],\n",
       "  'occupation': 'Product Manager',\n",
       "  'telephone': '219-424-4060',\n",
       "  'address': {'address': '1119 Beaumont Viaduct', 'city': 'Juneau'},\n",
       "  'credit-card': {'number': '3485 504416 47638', 'expiration-date': '02/18'}},\n",
       " {'age': 17,\n",
       "  'name': ['Yajaira', 'Valentine'],\n",
       "  'occupation': 'Lift Attendant',\n",
       "  'telephone': '001.973.0960',\n",
       "  'address': {'address': '697 Atoll Loop', 'city': 'Goose Creek'},\n",
       "  'credit-card': {'number': '3400 838300 21973', 'expiration-date': '05/20'}})"
      ]
     },
     "execution_count": 5,
     "metadata": {},
     "output_type": "execute_result"
    }
   ],
   "source": [
    "b.take(2)"
   ]
  },
  {
   "cell_type": "markdown",
   "metadata": {},
   "source": [
    "## Map, Filter, Aggregate\n",
    "\n",
    "We can process this data by filtering out only certain records of interest, mapping functions over it to process our data, and aggregating those results to a total value."
   ]
  },
  {
   "cell_type": "code",
   "execution_count": 6,
   "metadata": {
    "execution": {
     "iopub.execute_input": "2021-07-26T20:04:37.142626Z",
     "iopub.status.busy": "2021-07-26T20:04:37.141626Z",
     "iopub.status.idle": "2021-07-26T20:04:37.162012Z",
     "shell.execute_reply": "2021-07-26T20:04:37.162757Z"
    }
   },
   "outputs": [
    {
     "data": {
      "text/plain": [
       "({'age': 50,\n",
       "  'name': ['Vella', 'Whitney'],\n",
       "  'occupation': 'Product Manager',\n",
       "  'telephone': '219-424-4060',\n",
       "  'address': {'address': '1119 Beaumont Viaduct', 'city': 'Juneau'},\n",
       "  'credit-card': {'number': '3485 504416 47638', 'expiration-date': '02/18'}},\n",
       " {'age': 39,\n",
       "  'name': ['Israel', 'Henry'],\n",
       "  'occupation': 'Revenue Clerk',\n",
       "  'telephone': '408-181-4095',\n",
       "  'address': {'address': '874 H Bypass', 'city': 'Cliffside Park'},\n",
       "  'credit-card': {'number': '4804 9263 5416 5157',\n",
       "   'expiration-date': '11/23'}})"
      ]
     },
     "execution_count": 6,
     "metadata": {},
     "output_type": "execute_result"
    }
   ],
   "source": [
    "b.filter(lambda record: record['age'] > 30).take(2)  # Select only people over 30"
   ]
  },
  {
   "cell_type": "code",
   "execution_count": 7,
   "metadata": {
    "execution": {
     "iopub.execute_input": "2021-07-26T20:04:37.166208Z",
     "iopub.status.busy": "2021-07-26T20:04:37.165324Z",
     "iopub.status.idle": "2021-07-26T20:04:37.184509Z",
     "shell.execute_reply": "2021-07-26T20:04:37.186160Z"
    }
   },
   "outputs": [
    {
     "data": {
      "text/plain": [
       "('Product Manager', 'Lift Attendant')"
      ]
     },
     "execution_count": 7,
     "metadata": {},
     "output_type": "execute_result"
    }
   ],
   "source": [
    "b.map(lambda record: record['occupation']).take(2)  # Select the occupation field"
   ]
  },
  {
   "cell_type": "code",
   "execution_count": 8,
   "metadata": {
    "execution": {
     "iopub.execute_input": "2021-07-26T20:04:37.188872Z",
     "iopub.status.busy": "2021-07-26T20:04:37.188084Z",
     "iopub.status.idle": "2021-07-26T20:04:37.304057Z",
     "shell.execute_reply": "2021-07-26T20:04:37.303363Z"
    }
   },
   "outputs": [
    {
     "data": {
      "text/plain": [
       "10000"
      ]
     },
     "execution_count": 8,
     "metadata": {},
     "output_type": "execute_result"
    }
   ],
   "source": [
    "b.count().compute()  # Count total number of records"
   ]
  },
  {
   "cell_type": "markdown",
   "metadata": {},
   "source": [
    "## Chain computations\n",
    "\n",
    "It is common to do many of these steps in one pipeline, only calling `compute` or `take` at the end."
   ]
  },
  {
   "cell_type": "code",
   "execution_count": 9,
   "metadata": {
    "execution": {
     "iopub.execute_input": "2021-07-26T20:04:37.309401Z",
     "iopub.status.busy": "2021-07-26T20:04:37.308957Z",
     "iopub.status.idle": "2021-07-26T20:04:37.313363Z",
     "shell.execute_reply": "2021-07-26T20:04:37.314075Z"
    }
   },
   "outputs": [
    {
     "data": {
      "text/plain": [
       "dask.bag<topk-aggregate, npartitions=1>"
      ]
     },
     "execution_count": 9,
     "metadata": {},
     "output_type": "execute_result"
    }
   ],
   "source": [
    "result = (b.filter(lambda record: record['age'] > 30)\n",
    "           .map(lambda record: record['occupation'])\n",
    "           .frequencies(sort=True)\n",
    "           .topk(10, key=1))\n",
    "result"
   ]
  },
  {
   "cell_type": "markdown",
   "metadata": {},
   "source": [
    "As with all lazy Dask collections, we need to call `compute` to actually evaluate our result.  The `take` method used in earlier examples is also like `compute` and will also trigger computation."
   ]
  },
  {
   "cell_type": "code",
   "execution_count": 10,
   "metadata": {
    "execution": {
     "iopub.execute_input": "2021-07-26T20:04:37.317179Z",
     "iopub.status.busy": "2021-07-26T20:04:37.315971Z",
     "iopub.status.idle": "2021-07-26T20:04:37.442436Z",
     "shell.execute_reply": "2021-07-26T20:04:37.442059Z"
    }
   },
   "outputs": [
    {
     "data": {
      "text/plain": [
       "[('Laundry Staff', 15),\n",
       " ('Musician', 15),\n",
       " ('Bank Manager', 15),\n",
       " ('Motor Mechanic', 14),\n",
       " ('Fruiterer', 14),\n",
       " ('Agent', 14),\n",
       " ('Builder', 13),\n",
       " ('Racehorse Groom', 13),\n",
       " ('Tacker', 13),\n",
       " ('Historian', 13)]"
      ]
     },
     "execution_count": 10,
     "metadata": {},
     "output_type": "execute_result"
    }
   ],
   "source": [
    "result.compute()"
   ]
  },
  {
   "cell_type": "markdown",
   "metadata": {},
   "source": [
    "## Transform and Store\n",
    "\n",
    "Sometimes we want to compute aggregations as above, but sometimes we want to store results to disk for future analyses.  For that we can use methods like `to_textfiles` and `json.dumps`, or we can convert to Dask Dataframes and use their storage systems, which we'll see more of in the next section."
   ]
  },
  {
   "cell_type": "code",
   "execution_count": 11,
   "metadata": {
    "execution": {
     "iopub.execute_input": "2021-07-26T20:04:37.445281Z",
     "iopub.status.busy": "2021-07-26T20:04:37.444324Z",
     "iopub.status.idle": "2021-07-26T20:04:37.590956Z",
     "shell.execute_reply": "2021-07-26T20:04:37.590642Z"
    }
   },
   "outputs": [
    {
     "data": {
      "text/plain": [
       "['/home/runner/work/dask-examples/dask-examples/data/processed.0.json',\n",
       " '/home/runner/work/dask-examples/dask-examples/data/processed.1.json',\n",
       " '/home/runner/work/dask-examples/dask-examples/data/processed.2.json',\n",
       " '/home/runner/work/dask-examples/dask-examples/data/processed.3.json',\n",
       " '/home/runner/work/dask-examples/dask-examples/data/processed.4.json',\n",
       " '/home/runner/work/dask-examples/dask-examples/data/processed.5.json',\n",
       " '/home/runner/work/dask-examples/dask-examples/data/processed.6.json',\n",
       " '/home/runner/work/dask-examples/dask-examples/data/processed.7.json',\n",
       " '/home/runner/work/dask-examples/dask-examples/data/processed.8.json',\n",
       " '/home/runner/work/dask-examples/dask-examples/data/processed.9.json']"
      ]
     },
     "execution_count": 11,
     "metadata": {},
     "output_type": "execute_result"
    }
   ],
   "source": [
    "(b.filter(lambda record: record['age'] > 30)  # Select records of interest\n",
    "  .map(json.dumps)                            # Convert Python objects to text\n",
    "  .to_textfiles('data/processed.*.json'))     # Write to local disk"
   ]
  },
  {
   "cell_type": "markdown",
   "metadata": {},
   "source": [
    "## Convert to Dask Dataframes\n",
    "\n",
    "Dask Bags are good for reading in initial data, doing a bit of pre-processing, and then handing off to some other more efficient form like Dask Dataframes.  Dask Dataframes use Pandas internally, and so can be much faster on numeric data and also have more complex algorithms.  \n",
    "\n",
    "However, Dask Dataframes also expect data that is organized as flat columns.  It does not support nested JSON data very well (Bag is better for this).\n",
    "\n",
    "Here we make a function to flatten down our nested data structure, map that across our records, and then convert that to a Dask Dataframe."
   ]
  },
  {
   "cell_type": "code",
   "execution_count": 12,
   "metadata": {
    "execution": {
     "iopub.execute_input": "2021-07-26T20:04:37.594367Z",
     "iopub.status.busy": "2021-07-26T20:04:37.593931Z",
     "iopub.status.idle": "2021-07-26T20:04:37.614773Z",
     "shell.execute_reply": "2021-07-26T20:04:37.614420Z"
    }
   },
   "outputs": [
    {
     "data": {
      "text/plain": [
       "({'age': 50,\n",
       "  'name': ['Vella', 'Whitney'],\n",
       "  'occupation': 'Product Manager',\n",
       "  'telephone': '219-424-4060',\n",
       "  'address': {'address': '1119 Beaumont Viaduct', 'city': 'Juneau'},\n",
       "  'credit-card': {'number': '3485 504416 47638', 'expiration-date': '02/18'}},)"
      ]
     },
     "execution_count": 12,
     "metadata": {},
     "output_type": "execute_result"
    }
   ],
   "source": [
    "b.take(1)"
   ]
  },
  {
   "cell_type": "code",
   "execution_count": 13,
   "metadata": {
    "execution": {
     "iopub.execute_input": "2021-07-26T20:04:37.619605Z",
     "iopub.status.busy": "2021-07-26T20:04:37.619187Z",
     "iopub.status.idle": "2021-07-26T20:04:37.641421Z",
     "shell.execute_reply": "2021-07-26T20:04:37.641099Z"
    }
   },
   "outputs": [
    {
     "data": {
      "text/plain": [
       "({'age': 50,\n",
       "  'occupation': 'Product Manager',\n",
       "  'telephone': '219-424-4060',\n",
       "  'credit-card-number': '3485 504416 47638',\n",
       "  'credit-card-expiration': '02/18',\n",
       "  'name': 'Vella Whitney',\n",
       "  'street-address': '1119 Beaumont Viaduct',\n",
       "  'city': 'Juneau'},)"
      ]
     },
     "execution_count": 13,
     "metadata": {},
     "output_type": "execute_result"
    }
   ],
   "source": [
    "def flatten(record):\n",
    "    return {\n",
    "        'age': record['age'],\n",
    "        'occupation': record['occupation'],\n",
    "        'telephone': record['telephone'],\n",
    "        'credit-card-number': record['credit-card']['number'],\n",
    "        'credit-card-expiration': record['credit-card']['expiration-date'],\n",
    "        'name': ' '.join(record['name']),\n",
    "        'street-address': record['address']['address'],\n",
    "        'city': record['address']['city']   \n",
    "    }\n",
    "\n",
    "b.map(flatten).take(1)"
   ]
  },
  {
   "cell_type": "code",
   "execution_count": 14,
   "metadata": {
    "execution": {
     "iopub.execute_input": "2021-07-26T20:04:37.644196Z",
     "iopub.status.busy": "2021-07-26T20:04:37.643103Z",
     "iopub.status.idle": "2021-07-26T20:04:38.386262Z",
     "shell.execute_reply": "2021-07-26T20:04:38.387133Z"
    }
   },
   "outputs": [
    {
     "data": {
      "text/html": [
       "<div>\n",
       "<style scoped>\n",
       "    .dataframe tbody tr th:only-of-type {\n",
       "        vertical-align: middle;\n",
       "    }\n",
       "\n",
       "    .dataframe tbody tr th {\n",
       "        vertical-align: top;\n",
       "    }\n",
       "\n",
       "    .dataframe thead th {\n",
       "        text-align: right;\n",
       "    }\n",
       "</style>\n",
       "<table border=\"1\" class=\"dataframe\">\n",
       "  <thead>\n",
       "    <tr style=\"text-align: right;\">\n",
       "      <th></th>\n",
       "      <th>age</th>\n",
       "      <th>occupation</th>\n",
       "      <th>telephone</th>\n",
       "      <th>credit-card-number</th>\n",
       "      <th>credit-card-expiration</th>\n",
       "      <th>name</th>\n",
       "      <th>street-address</th>\n",
       "      <th>city</th>\n",
       "    </tr>\n",
       "  </thead>\n",
       "  <tbody>\n",
       "    <tr>\n",
       "      <th>0</th>\n",
       "      <td>50</td>\n",
       "      <td>Product Manager</td>\n",
       "      <td>219-424-4060</td>\n",
       "      <td>3485 504416 47638</td>\n",
       "      <td>02/18</td>\n",
       "      <td>Vella Whitney</td>\n",
       "      <td>1119 Beaumont Viaduct</td>\n",
       "      <td>Juneau</td>\n",
       "    </tr>\n",
       "    <tr>\n",
       "      <th>1</th>\n",
       "      <td>17</td>\n",
       "      <td>Lift Attendant</td>\n",
       "      <td>001.973.0960</td>\n",
       "      <td>3400 838300 21973</td>\n",
       "      <td>05/20</td>\n",
       "      <td>Yajaira Valentine</td>\n",
       "      <td>697 Atoll Loop</td>\n",
       "      <td>Goose Creek</td>\n",
       "    </tr>\n",
       "    <tr>\n",
       "      <th>2</th>\n",
       "      <td>24</td>\n",
       "      <td>Mechanic</td>\n",
       "      <td>(007) 118-2163</td>\n",
       "      <td>5589 1724 9254 4114</td>\n",
       "      <td>09/16</td>\n",
       "      <td>Elton Garcia</td>\n",
       "      <td>227 Pelican Cove Manor</td>\n",
       "      <td>Mankato</td>\n",
       "    </tr>\n",
       "    <tr>\n",
       "      <th>3</th>\n",
       "      <td>39</td>\n",
       "      <td>Revenue Clerk</td>\n",
       "      <td>408-181-4095</td>\n",
       "      <td>4804 9263 5416 5157</td>\n",
       "      <td>11/23</td>\n",
       "      <td>Israel Henry</td>\n",
       "      <td>874 H Bypass</td>\n",
       "      <td>Cliffside Park</td>\n",
       "    </tr>\n",
       "    <tr>\n",
       "      <th>4</th>\n",
       "      <td>18</td>\n",
       "      <td>Office Manager</td>\n",
       "      <td>1-450-041-1977</td>\n",
       "      <td>3766 747004 22874</td>\n",
       "      <td>03/21</td>\n",
       "      <td>Eliseo Compton</td>\n",
       "      <td>1355 Anson Arcade</td>\n",
       "      <td>Alamogordo</td>\n",
       "    </tr>\n",
       "  </tbody>\n",
       "</table>\n",
       "</div>"
      ],
      "text/plain": [
       "   age       occupation       telephone   credit-card-number  \\\n",
       "0   50  Product Manager    219-424-4060    3485 504416 47638   \n",
       "1   17   Lift Attendant    001.973.0960    3400 838300 21973   \n",
       "2   24         Mechanic  (007) 118-2163  5589 1724 9254 4114   \n",
       "3   39    Revenue Clerk    408-181-4095  4804 9263 5416 5157   \n",
       "4   18   Office Manager  1-450-041-1977    3766 747004 22874   \n",
       "\n",
       "  credit-card-expiration               name          street-address  \\\n",
       "0                  02/18      Vella Whitney   1119 Beaumont Viaduct   \n",
       "1                  05/20  Yajaira Valentine          697 Atoll Loop   \n",
       "2                  09/16       Elton Garcia  227 Pelican Cove Manor   \n",
       "3                  11/23       Israel Henry            874 H Bypass   \n",
       "4                  03/21     Eliseo Compton       1355 Anson Arcade   \n",
       "\n",
       "             city  \n",
       "0          Juneau  \n",
       "1     Goose Creek  \n",
       "2         Mankato  \n",
       "3  Cliffside Park  \n",
       "4      Alamogordo  "
      ]
     },
     "execution_count": 14,
     "metadata": {},
     "output_type": "execute_result"
    }
   ],
   "source": [
    "df = b.map(flatten).to_dataframe()\n",
    "df.head()"
   ]
  },
  {
   "cell_type": "markdown",
   "metadata": {},
   "source": [
    "We can now perform the same computation as before, but now using Pandas and Dask dataframe."
   ]
  },
  {
   "cell_type": "code",
   "execution_count": 15,
   "metadata": {
    "execution": {
     "iopub.execute_input": "2021-07-26T20:04:38.389991Z",
     "iopub.status.busy": "2021-07-26T20:04:38.389044Z",
     "iopub.status.idle": "2021-07-26T20:04:39.078123Z",
     "shell.execute_reply": "2021-07-26T20:04:39.077465Z"
    }
   },
   "outputs": [
    {
     "data": {
      "text/plain": [
       "Laundry Staff      15\n",
       "Bank Manager       15\n",
       "Musician           15\n",
       "Motor Mechanic     14\n",
       "Fruiterer          14\n",
       "Agent              14\n",
       "Racehorse Groom    13\n",
       "Builder            13\n",
       "Student            13\n",
       "Historian          13\n",
       "Name: occupation, dtype: int64"
      ]
     },
     "execution_count": 15,
     "metadata": {},
     "output_type": "execute_result"
    }
   ],
   "source": [
    "df[df.age > 30].occupation.value_counts().nlargest(10).compute()"
   ]
  },
  {
   "cell_type": "markdown",
   "metadata": {},
   "source": [
    "## Learn More\n",
    "\n",
    "You may be interested in the following links:\n",
    "\n",
    "-  [Dask Bag Documentation](https://docs.dask.org/en/latest/bag.html)\n",
    "-  [API Documentation](http://docs.dask.org/en/latest/bag-api.html)\n",
    "-  [dask tutorial](https://github.com/dask/dask-tutorial), notebook 02, for a more in-depth introduction."
   ]
  }
 ],
 "metadata": {
  "kernelspec": {
   "display_name": "Python 3",
   "language": "python",
   "name": "python3"
  },
  "language_info": {
   "codemirror_mode": {
    "name": "ipython",
    "version": 3
   },
   "file_extension": ".py",
   "mimetype": "text/x-python",
   "name": "python",
   "nbconvert_exporter": "python",
   "pygments_lexer": "ipython3",
   "version": "3.8.10"
  }
 },
 "nbformat": 4,
 "nbformat_minor": 2
}
