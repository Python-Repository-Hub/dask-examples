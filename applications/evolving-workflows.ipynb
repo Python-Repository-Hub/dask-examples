{
 "cells": [
  {
   "cell_type": "markdown",
   "metadata": {},
   "source": [
    "Handle Evolving Workflows\n",
    "=========================\n",
    "\n",
    "For some workflows we don't know the extent of the computation at the outset.  We need to do some computation in order to figure out the rest of the computation that we need to do.  The computation grows and evolves as we do more work.\n",
    "\n",
    "As an example, consider a situation where you need to read many files and then based on the contents of those files, fire off additional work.  You would like to read the files in parallel, and then within each file expose more parallelism.\n",
    "\n",
    "This example goes through three ways to handle this situation using [Dask Futures](https://docs.dask.org/en/latest/futures.html)\n",
    "\n",
    "1.  Using `as_completed`\n",
    "2.  Using `async/await`\n",
    "3.  Launching tasks from tasks\n",
    "\n",
    "But first, lets run our code sequentially."
   ]
  },
  {
   "cell_type": "markdown",
   "metadata": {},
   "source": [
    "0: Sequential code\n",
    "------------------"
   ]
  },
  {
   "cell_type": "code",
   "execution_count": 1,
   "metadata": {
    "execution": {
     "iopub.execute_input": "2021-10-14T16:46:09.927537Z",
     "iopub.status.busy": "2021-10-14T16:46:09.926783Z",
     "iopub.status.idle": "2021-10-14T16:46:09.959680Z",
     "shell.execute_reply": "2021-10-14T16:46:09.960480Z"
    }
   },
   "outputs": [
    {
     "data": {
      "text/plain": [
       "['file.0.txt', 'file.1.txt', 'file.2.txt']"
      ]
     },
     "execution_count": 1,
     "metadata": {},
     "output_type": "execute_result"
    }
   ],
   "source": [
    "filenames = [\"file.{}.txt\".format(i) for i in range(10)]\n",
    "\n",
    "filenames[:3]"
   ]
  },
  {
   "cell_type": "code",
   "execution_count": 2,
   "metadata": {
    "execution": {
     "iopub.execute_input": "2021-10-14T16:46:09.964220Z",
     "iopub.status.busy": "2021-10-14T16:46:09.963078Z",
     "iopub.status.idle": "2021-10-14T16:46:09.975435Z",
     "shell.execute_reply": "2021-10-14T16:46:09.976295Z"
    }
   },
   "outputs": [],
   "source": [
    "import random, time\n",
    "\n",
    "\n",
    "def parse_file(fn: str) -> list:\n",
    "    \"\"\" Returns a list work items of unknown length \"\"\"\n",
    "    time.sleep(random.random())\n",
    "    return [random.random() for _ in range(random.randint(1, 10))]\n",
    "\n",
    "def process_item(x: float):\n",
    "    \"\"\" Process each work item \"\"\"\n",
    "    time.sleep(random.random() / 4)\n",
    "    return x + 1"
   ]
  },
  {
   "cell_type": "code",
   "execution_count": 3,
   "metadata": {
    "execution": {
     "iopub.execute_input": "2021-10-14T16:46:09.979776Z",
     "iopub.status.busy": "2021-10-14T16:46:09.978703Z",
     "iopub.status.idle": "2021-10-14T16:46:21.795937Z",
     "shell.execute_reply": "2021-10-14T16:46:21.795364Z"
    }
   },
   "outputs": [
    {
     "name": "stdout",
     "output_type": "stream",
     "text": [
      "CPU times: user 5.19 ms, sys: 193 µs, total: 5.39 ms\n",
      "Wall time: 11.8 s\n"
     ]
    }
   ],
   "source": [
    "%%time\n",
    "\n",
    "# This takes around 10-20s\n",
    "\n",
    "results = []\n",
    "\n",
    "for fn in filenames:\n",
    "    L = parse_file(fn)\n",
    "    for x in L:\n",
    "        out = process_item(x)\n",
    "        results.append(out)"
   ]
  },
  {
   "cell_type": "markdown",
   "metadata": {},
   "source": [
    "Start Dask Client\n",
    "-----------------\n",
    "\n",
    "We'll need a Dask client in order to manage dynamic workloads"
   ]
  },
  {
   "cell_type": "code",
   "execution_count": 4,
   "metadata": {
    "execution": {
     "iopub.execute_input": "2021-10-14T16:46:21.803600Z",
     "iopub.status.busy": "2021-10-14T16:46:21.802968Z",
     "iopub.status.idle": "2021-10-14T16:46:25.098559Z",
     "shell.execute_reply": "2021-10-14T16:46:25.098986Z"
    }
   },
   "outputs": [
    {
     "data": {
      "text/html": [
       "<table style=\"border: 2px solid white;\">\n",
       "<tr>\n",
       "<td style=\"vertical-align: top; border: 0px solid white\">\n",
       "<h3 style=\"text-align: left;\">Client</h3>\n",
       "<ul style=\"text-align: left; list-style: none; margin: 0; padding: 0;\">\n",
       "  <li><b>Scheduler: </b>inproc://10.1.0.10/6828/1</li>\n",
       "  <li><b>Dashboard: </b><a href='http://10.1.0.10:8787/status' target='_blank'>http://10.1.0.10:8787/status</a></li>\n",
       "</ul>\n",
       "</td>\n",
       "<td style=\"vertical-align: top; border: 0px solid white\">\n",
       "<h3 style=\"text-align: left;\">Cluster</h3>\n",
       "<ul style=\"text-align: left; list-style:none; margin: 0; padding: 0;\">\n",
       "  <li><b>Workers: </b>1</li>\n",
       "  <li><b>Cores: </b>6</li>\n",
       "  <li><b>Memory: </b>7.29 GB</li>\n",
       "</ul>\n",
       "</td>\n",
       "</tr>\n",
       "</table>"
      ],
      "text/plain": [
       "<Client: 'inproc://10.1.0.10/6828/1' processes=1 threads=6, memory=7.29 GB>"
      ]
     },
     "execution_count": 4,
     "metadata": {},
     "output_type": "execute_result"
    }
   ],
   "source": [
    "from dask.distributed import Client\n",
    "\n",
    "client = Client(processes=False, n_workers=1, threads_per_worker=6)\n",
    "client"
   ]
  },
  {
   "cell_type": "markdown",
   "metadata": {},
   "source": [
    "1: Use as_completed\n",
    "-------------------\n",
    "\n",
    "The [as_completed](https://docs.dask.org/en/latest/futures.html#distributed.as_completed) iterator lets us handle futures as they complete.  We can then submit more data on the fly.\n",
    "\n",
    "-   We submit a task for each of our filenames\n",
    "-   We also compute the length of each of the returned lists\n",
    "-   As those lengths return, we submit off a new task to get each item of that list.  We do this at higher priority, so that we process existing data before we collect new data.\n",
    "-   We wait on all of the returned results"
   ]
  },
  {
   "cell_type": "code",
   "execution_count": 5,
   "metadata": {
    "execution": {
     "iopub.execute_input": "2021-10-14T16:46:25.114088Z",
     "iopub.status.busy": "2021-10-14T16:46:25.108038Z",
     "iopub.status.idle": "2021-10-14T16:46:27.325793Z",
     "shell.execute_reply": "2021-10-14T16:46:27.324994Z"
    }
   },
   "outputs": [
    {
     "name": "stdout",
     "output_type": "stream",
     "text": [
      "CPU times: user 277 ms, sys: 33.6 ms, total: 310 ms\n",
      "Wall time: 2.21 s\n"
     ]
    },
    {
     "data": {
      "text/plain": [
       "[1.7512687970939034,\n",
       " 1.6673356021151453,\n",
       " 1.4889576990722637,\n",
       " 1.9786912914772332,\n",
       " 1.360271446351737,\n",
       " 1.6121362776892811,\n",
       " 1.5231517250190452,\n",
       " 1.382509099840809,\n",
       " 1.4524327279182094,\n",
       " 1.5125590667886761,\n",
       " 1.0734711579843779,\n",
       " 1.3876782918105128,\n",
       " 1.318207370990712,\n",
       " 1.4450347895300486,\n",
       " 1.3360487739000733,\n",
       " 1.223552541148377,\n",
       " 1.5300858505875923,\n",
       " 1.4246171603769913,\n",
       " 1.5085273446245466,\n",
       " 1.2223676184083971,\n",
       " 1.43162604838119,\n",
       " 1.2755078225726466,\n",
       " 1.6105012972818142,\n",
       " 1.9773747259358916,\n",
       " 1.6525315524440947,\n",
       " 1.0862692629193091,\n",
       " 1.5665387408052962,\n",
       " 1.3401393075726304,\n",
       " 1.4237487815055947,\n",
       " 1.5875028192421305,\n",
       " 1.3939880329885397,\n",
       " 1.6104617096712193,\n",
       " 1.5651215233271771,\n",
       " 1.4749964322193496,\n",
       " 1.2584166851504275,\n",
       " 1.6483589956589655,\n",
       " 1.5433386360186403,\n",
       " 1.9068681797738667,\n",
       " 1.4346533249848907,\n",
       " 1.0049871694857684,\n",
       " 1.2902387544543896,\n",
       " 1.8425957121095107,\n",
       " 1.8126350907417097,\n",
       " 1.4228033620875467,\n",
       " 1.9612434872933948,\n",
       " 1.160955907487966,\n",
       " 1.3060726953021424,\n",
       " 1.5870751986124918,\n",
       " 1.3811503643892928,\n",
       " 1.6687117306888881,\n",
       " 1.1319513583891587]"
      ]
     },
     "execution_count": 5,
     "metadata": {},
     "output_type": "execute_result"
    }
   ],
   "source": [
    "%%time\n",
    "\n",
    "from dask.distributed import as_completed\n",
    "import operator\n",
    "\n",
    "lists = client.map(parse_file, filenames, pure=False)\n",
    "lengths = client.map(len, lists)\n",
    "\n",
    "mapping = dict(zip(lengths, lists))\n",
    "\n",
    "futures = []\n",
    "\n",
    "for future in as_completed(lengths):\n",
    "    n = future.result()\n",
    "    L = mapping[future]\n",
    "    for i in range(n):\n",
    "        new = client.submit(operator.getitem, L, i, priority=1)\n",
    "        new = client.submit(process_item, new, priority=1)\n",
    "        futures.append(new)\n",
    "        \n",
    "client.gather(futures)"
   ]
  },
  {
   "cell_type": "markdown",
   "metadata": {},
   "source": [
    "2: Use async/await to handle single file processing locally\n",
    "-----------------------------------------------------------\n",
    "\n",
    "We can also handle the concurrency here within our local process.  This requires you to understand async/await syntax, but is generally powerful and arguably simpler than the `as_completed` approach above."
   ]
  },
  {
   "cell_type": "code",
   "execution_count": 6,
   "metadata": {
    "execution": {
     "iopub.execute_input": "2021-10-14T16:46:27.341437Z",
     "iopub.status.busy": "2021-10-14T16:46:27.340852Z",
     "iopub.status.idle": "2021-10-14T16:46:27.349425Z",
     "shell.execute_reply": "2021-10-14T16:46:27.348955Z"
    }
   },
   "outputs": [],
   "source": [
    "import asyncio\n",
    "\n",
    "async def f(fn):\n",
    "    \"\"\" Handle the lifecycle of a single file \"\"\"\n",
    "    future = client.submit(parse_file, fn, pure=False)\n",
    "    length_future = client.submit(len, future)\n",
    "    length = await length_future\n",
    "    \n",
    "    futures = [client.submit(operator.getitem, future, i, priority=10) \n",
    "               for i in range(length)]\n",
    "    futures = client.map(process_item, futures, priority=10)\n",
    "    return futures\n",
    "\n",
    "async def run_all(filenames):\n",
    "    list_of_list_of_futures = await asyncio.gather(*[f(fn) for fn in filenames])\n",
    "    futures = sum(list_of_list_of_futures, [])\n",
    "    return await client.gather(futures)\n"
   ]
  },
  {
   "cell_type": "markdown",
   "metadata": {},
   "source": [
    "We now need to run this function in the same event loop as our client is running.  If we had started our client asynchronously, then we could have done this:\n",
    "\n",
    "```python\n",
    "client = await Client(asynchronous=True)\n",
    "\n",
    "await run_all(filenames)\n",
    "```\n",
    "\n",
    "However, because we started our client without the `asynchronous=True` flag the event loop is actually running in a separate thread, so we'll have to ask the client to run this for us."
   ]
  },
  {
   "cell_type": "code",
   "execution_count": 7,
   "metadata": {
    "execution": {
     "iopub.execute_input": "2021-10-14T16:46:27.371386Z",
     "iopub.status.busy": "2021-10-14T16:46:27.354959Z",
     "iopub.status.idle": "2021-10-14T16:46:29.574999Z",
     "shell.execute_reply": "2021-10-14T16:46:29.574532Z"
    }
   },
   "outputs": [
    {
     "data": {
      "text/plain": [
       "[1.4656369418028088,\n",
       " 1.9785812053575818,\n",
       " 1.5797369403624604,\n",
       " 1.1948887736544673,\n",
       " 1.4658462784661896,\n",
       " 1.8519966268291916,\n",
       " 1.4531397250557365,\n",
       " 1.7311942678693972,\n",
       " 1.6274760946199658,\n",
       " 1.9697641687992165,\n",
       " 1.6198121361640752,\n",
       " 1.917000325594283,\n",
       " 1.8157061366895055,\n",
       " 1.588933101548861,\n",
       " 1.209190563475942,\n",
       " 1.0260852119991637,\n",
       " 1.1254172467339523,\n",
       " 1.1404638710263129,\n",
       " 1.9355574218684297,\n",
       " 1.6683484585133521,\n",
       " 1.2658694704085482,\n",
       " 1.0445689480402356,\n",
       " 1.4961317919808148,\n",
       " 1.868285954858894,\n",
       " 1.7683001175521826,\n",
       " 1.463930586292761,\n",
       " 1.99026364230017,\n",
       " 1.583353790621933,\n",
       " 1.2603949479104686,\n",
       " 1.7525116760557533,\n",
       " 1.8499286002831885,\n",
       " 1.0318340743421368,\n",
       " 1.6976900943324196,\n",
       " 1.5925473876173086,\n",
       " 1.859946911251538,\n",
       " 1.857008524656765,\n",
       " 1.1914818636396336,\n",
       " 1.5696734373394432,\n",
       " 1.4214351773072316,\n",
       " 1.3649036978715352,\n",
       " 1.0885241725562071,\n",
       " 1.5803962616923735,\n",
       " 1.5715105984126032,\n",
       " 1.2724763066443507,\n",
       " 1.2321635834371425,\n",
       " 1.7509194855078731,\n",
       " 1.6757744586036347,\n",
       " 1.5415369730468143,\n",
       " 1.9054351820163573,\n",
       " 1.5747565354198438,\n",
       " 1.1572372243429139]"
      ]
     },
     "execution_count": 7,
     "metadata": {},
     "output_type": "execute_result"
    }
   ],
   "source": [
    "client.sync(run_all, filenames)"
   ]
  },
  {
   "cell_type": "markdown",
   "metadata": {},
   "source": [
    "3: Submit tasks from tasks\n",
    "--------------------------\n",
    "\n",
    "We can also submit tasks that themselves submit more tasks.  See [documentation here](https://docs.dask.org/en/latest/futures.html#submit-tasks-from-tasks)."
   ]
  },
  {
   "cell_type": "code",
   "execution_count": 8,
   "metadata": {
    "execution": {
     "iopub.execute_input": "2021-10-14T16:46:29.580513Z",
     "iopub.status.busy": "2021-10-14T16:46:29.579348Z",
     "iopub.status.idle": "2021-10-14T16:46:31.793201Z",
     "shell.execute_reply": "2021-10-14T16:46:31.792776Z"
    }
   },
   "outputs": [
    {
     "name": "stdout",
     "output_type": "stream",
     "text": [
      "CPU times: user 214 ms, sys: 32.5 ms, total: 247 ms\n",
      "Wall time: 2.21 s\n"
     ]
    }
   ],
   "source": [
    "%%time\n",
    "\n",
    "from dask.distributed import get_client, secede, rejoin\n",
    "\n",
    "def f(fn):\n",
    "    L = parse_file(fn)\n",
    "    client = get_client()\n",
    "    \n",
    "    futures = client.map(process_item, L, priority=10)\n",
    "    secede()\n",
    "    results = client.gather(futures)\n",
    "    rejoin()\n",
    "    return results\n",
    "\n",
    "futures = client.map(f, filenames, pure=False)\n",
    "results = client.gather(futures)"
   ]
  }
 ],
 "metadata": {
  "kernelspec": {
   "display_name": "Python 3",
   "language": "python",
   "name": "python3"
  },
  "language_info": {
   "codemirror_mode": {
    "name": "ipython",
    "version": 3
   },
   "file_extension": ".py",
   "mimetype": "text/x-python",
   "name": "python",
   "nbconvert_exporter": "python",
   "pygments_lexer": "ipython3",
   "version": "3.8.12"
  }
 },
 "nbformat": 4,
 "nbformat_minor": 4
}
