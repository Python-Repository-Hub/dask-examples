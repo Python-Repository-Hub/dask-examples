{
 "cells": [
  {
   "cell_type": "markdown",
   "metadata": {},
   "source": [
    "<img src=\"http://dask.readthedocs.io/en/latest/_images/dask_horizontal.svg\" \n",
    "     width=\"30%\" \n",
    "     align=right\n",
    "     alt=\"Dask logo\">\n",
    "\n",
    "# Embarrassingly parallel Workloads\n",
    "\n",
    "This notebook shows how to use Dask to parallelize embarrassingly parallel workloads where you want to apply one function to many pieces of data independently.  It will show three different ways of doing this with Dask:\n",
    "\n",
    "1. [dask.delayed](http://dask.pydata.org/en/latest/delayed.html) \n",
    "2. [concurrent.Futures](https://dask.pydata.org/en/latest/futures.html) \n",
    "3. [dask.bag](https://dask.pydata.org/en/latest/bag.html)\n",
    "\n",
    "This example focuses on using Dask for building large embarrassingly parallel computation as often seen in scientific communities and on High Performance Computing facilities, for example with Monte Carlo methods. This kind of simulation assume the following:\n",
    "\n",
    " - We have a function that runs a heavy computation given some parameters.\n",
    " - We need to compute this function on many different input parameters, each function call being independent.\n",
    " - We want to gather all the results in one place for further analysis."
   ]
  },
  {
   "cell_type": "markdown",
   "metadata": {},
   "source": [
    "## Start Dask Client for Dashboard\n",
    "\n",
    "Starting the Dask Client will provide a dashboard which \n",
    "is useful to gain insight on the computation.  We will also need it for the\n",
    "Futures API part of this example. Moreover, as this kind of computation\n",
    "is often launched on super computer or in the Cloud, you will probably end\n",
    "up having to start a cluster and connect a client to scale.  See \n",
    "[dask-jobqueue](https://github.com/dask/dask-jobqueue),\n",
    "[dask-kubernetes](https://github.com/dask/dask-kubernetes) or \n",
    "[dask-yarn](https://github.com/dask/dask-yarn) for easy ways to achieve this\n",
    "on respectively an HPC, Cloud or Big Data infrastructure.\n",
    "\n",
    "The link to the dashboard will become visible when you create the client below.  We recommend having it open on one side of your screen while using your notebook on the other side.  This can take some effort to arrange your windows, but seeing them both at the same time is very useful when learning."
   ]
  },
  {
   "cell_type": "code",
   "execution_count": 1,
   "metadata": {
    "execution": {
     "iopub.execute_input": "2021-07-26T20:06:02.490340Z",
     "iopub.status.busy": "2021-07-26T20:06:02.489534Z",
     "iopub.status.idle": "2021-07-26T20:06:03.936984Z",
     "shell.execute_reply": "2021-07-26T20:06:03.937366Z"
    }
   },
   "outputs": [
    {
     "data": {
      "text/html": [
       "<table style=\"border: 2px solid white;\">\n",
       "<tr>\n",
       "<td style=\"vertical-align: top; border: 0px solid white\">\n",
       "<h3 style=\"text-align: left;\">Client</h3>\n",
       "<ul style=\"text-align: left; list-style: none; margin: 0; padding: 0;\">\n",
       "  <li><b>Scheduler: </b>tcp://127.0.0.1:42711</li>\n",
       "  <li><b>Dashboard: </b><a href='http://127.0.0.1:8787/status' target='_blank'>http://127.0.0.1:8787/status</a></li>\n",
       "</ul>\n",
       "</td>\n",
       "<td style=\"vertical-align: top; border: 0px solid white\">\n",
       "<h3 style=\"text-align: left;\">Cluster</h3>\n",
       "<ul style=\"text-align: left; list-style:none; margin: 0; padding: 0;\">\n",
       "  <li><b>Workers: </b>1</li>\n",
       "  <li><b>Cores: </b>4</li>\n",
       "  <li><b>Memory: </b>7.29 GB</li>\n",
       "</ul>\n",
       "</td>\n",
       "</tr>\n",
       "</table>"
      ],
      "text/plain": [
       "<Client: 'tcp://127.0.0.1:42711' processes=1 threads=4, memory=7.29 GB>"
      ]
     },
     "execution_count": 1,
     "metadata": {},
     "output_type": "execute_result"
    }
   ],
   "source": [
    "from dask.distributed import Client, progress\n",
    "client = Client(threads_per_worker=4, n_workers=1)\n",
    "client"
   ]
  },
  {
   "cell_type": "markdown",
   "metadata": {},
   "source": [
    "## Define your computation calling function\n",
    "\n",
    "This function does a simple operation: add all numbers of a list/array together, but it also sleeps for a random amount of time to simulate real work. In real use cases, this could call another python module, or even run an executable using subprocess module."
   ]
  },
  {
   "cell_type": "code",
   "execution_count": 2,
   "metadata": {
    "execution": {
     "iopub.execute_input": "2021-07-26T20:06:03.941544Z",
     "iopub.status.busy": "2021-07-26T20:06:03.941085Z",
     "iopub.status.idle": "2021-07-26T20:06:03.943158Z",
     "shell.execute_reply": "2021-07-26T20:06:03.942761Z"
    }
   },
   "outputs": [],
   "source": [
    "import time\n",
    "import random\n",
    "\n",
    "def costly_simulation(list_param):\n",
    "    time.sleep(random.random())\n",
    "    return sum(list_param)"
   ]
  },
  {
   "cell_type": "markdown",
   "metadata": {},
   "source": [
    "We try it locally below"
   ]
  },
  {
   "cell_type": "code",
   "execution_count": 3,
   "metadata": {
    "execution": {
     "iopub.execute_input": "2021-07-26T20:06:03.946737Z",
     "iopub.status.busy": "2021-07-26T20:06:03.946321Z",
     "iopub.status.idle": "2021-07-26T20:06:04.075630Z",
     "shell.execute_reply": "2021-07-26T20:06:04.076303Z"
    }
   },
   "outputs": [
    {
     "name": "stdout",
     "output_type": "stream",
     "text": [
      "CPU times: user 3.35 ms, sys: 73 µs, total: 3.43 ms\n",
      "Wall time: 122 ms\n"
     ]
    },
    {
     "data": {
      "text/plain": [
       "10"
      ]
     },
     "execution_count": 3,
     "metadata": {},
     "output_type": "execute_result"
    }
   ],
   "source": [
    "%time costly_simulation([1, 2, 3, 4])"
   ]
  },
  {
   "cell_type": "markdown",
   "metadata": {},
   "source": [
    "## Define the set of input parameters to call the function\n",
    "\n",
    "We will generate a set of inputs on which we want to run our simulation function. Here we use Pandas dataframe, but we could also use a simple list. Lets say that our simulation is run with four parameters called param_[a-d]."
   ]
  },
  {
   "cell_type": "code",
   "execution_count": 4,
   "metadata": {
    "execution": {
     "iopub.execute_input": "2021-07-26T20:06:04.083400Z",
     "iopub.status.busy": "2021-07-26T20:06:04.079701Z",
     "iopub.status.idle": "2021-07-26T20:06:04.092798Z",
     "shell.execute_reply": "2021-07-26T20:06:04.092399Z"
    }
   },
   "outputs": [
    {
     "data": {
      "text/html": [
       "<div>\n",
       "<style scoped>\n",
       "    .dataframe tbody tr th:only-of-type {\n",
       "        vertical-align: middle;\n",
       "    }\n",
       "\n",
       "    .dataframe tbody tr th {\n",
       "        vertical-align: top;\n",
       "    }\n",
       "\n",
       "    .dataframe thead th {\n",
       "        text-align: right;\n",
       "    }\n",
       "</style>\n",
       "<table border=\"1\" class=\"dataframe\">\n",
       "  <thead>\n",
       "    <tr style=\"text-align: right;\">\n",
       "      <th></th>\n",
       "      <th>param_a</th>\n",
       "      <th>param_b</th>\n",
       "      <th>param_c</th>\n",
       "      <th>param_d</th>\n",
       "    </tr>\n",
       "  </thead>\n",
       "  <tbody>\n",
       "    <tr>\n",
       "      <th>0</th>\n",
       "      <td>0.710841</td>\n",
       "      <td>0.933761</td>\n",
       "      <td>0.030176</td>\n",
       "      <td>0.079289</td>\n",
       "    </tr>\n",
       "    <tr>\n",
       "      <th>1</th>\n",
       "      <td>0.902306</td>\n",
       "      <td>0.305726</td>\n",
       "      <td>0.994047</td>\n",
       "      <td>0.006610</td>\n",
       "    </tr>\n",
       "    <tr>\n",
       "      <th>2</th>\n",
       "      <td>0.489321</td>\n",
       "      <td>0.578384</td>\n",
       "      <td>0.184853</td>\n",
       "      <td>0.586463</td>\n",
       "    </tr>\n",
       "    <tr>\n",
       "      <th>3</th>\n",
       "      <td>0.240242</td>\n",
       "      <td>0.493942</td>\n",
       "      <td>0.584618</td>\n",
       "      <td>0.324256</td>\n",
       "    </tr>\n",
       "    <tr>\n",
       "      <th>4</th>\n",
       "      <td>0.392373</td>\n",
       "      <td>0.198263</td>\n",
       "      <td>0.229244</td>\n",
       "      <td>0.218232</td>\n",
       "    </tr>\n",
       "  </tbody>\n",
       "</table>\n",
       "</div>"
      ],
      "text/plain": [
       "    param_a   param_b   param_c   param_d\n",
       "0  0.710841  0.933761  0.030176  0.079289\n",
       "1  0.902306  0.305726  0.994047  0.006610\n",
       "2  0.489321  0.578384  0.184853  0.586463\n",
       "3  0.240242  0.493942  0.584618  0.324256\n",
       "4  0.392373  0.198263  0.229244  0.218232"
      ]
     },
     "execution_count": 4,
     "metadata": {},
     "output_type": "execute_result"
    }
   ],
   "source": [
    "import pandas as pd\n",
    "import numpy as np\n",
    "\n",
    "input_params = pd.DataFrame(np.random.random(size=(500, 4)),\n",
    "                            columns=['param_a', 'param_b', 'param_c', 'param_d'])\n",
    "input_params.head()"
   ]
  },
  {
   "cell_type": "markdown",
   "metadata": {},
   "source": [
    "Without using Dask, we could call our simulation on all of these parameters using normal Python for loops.\n",
    "\n",
    "Let's only do this on a sample of our parameters as it would be quite long otherwise."
   ]
  },
  {
   "cell_type": "code",
   "execution_count": 5,
   "metadata": {
    "execution": {
     "iopub.execute_input": "2021-07-26T20:06:04.095742Z",
     "iopub.status.busy": "2021-07-26T20:06:04.095249Z",
     "iopub.status.idle": "2021-07-26T20:06:04.098041Z",
     "shell.execute_reply": "2021-07-26T20:06:04.097713Z"
    }
   },
   "outputs": [],
   "source": [
    "results = []"
   ]
  },
  {
   "cell_type": "code",
   "execution_count": 6,
   "metadata": {
    "execution": {
     "iopub.execute_input": "2021-07-26T20:06:04.101260Z",
     "iopub.status.busy": "2021-07-26T20:06:04.100828Z",
     "iopub.status.idle": "2021-07-26T20:06:10.140959Z",
     "shell.execute_reply": "2021-07-26T20:06:10.140546Z"
    }
   },
   "outputs": [
    {
     "name": "stdout",
     "output_type": "stream",
     "text": [
      "CPU times: user 110 ms, sys: 15.7 ms, total: 125 ms\n",
      "Wall time: 6.04 s\n"
     ]
    }
   ],
   "source": [
    "%%time\n",
    "for parameters in input_params.values[:10]:\n",
    "    result = costly_simulation(parameters)\n",
    "    results.append(result)"
   ]
  },
  {
   "cell_type": "code",
   "execution_count": 7,
   "metadata": {
    "execution": {
     "iopub.execute_input": "2021-07-26T20:06:10.145334Z",
     "iopub.status.busy": "2021-07-26T20:06:10.144867Z",
     "iopub.status.idle": "2021-07-26T20:06:10.149153Z",
     "shell.execute_reply": "2021-07-26T20:06:10.150090Z"
    }
   },
   "outputs": [
    {
     "data": {
      "text/plain": [
       "[1.7540667141062602,\n",
       " 2.208689573214757,\n",
       " 1.8390213425098947,\n",
       " 1.6430581509616942,\n",
       " 1.038111935388933,\n",
       " 1.8563985394209288,\n",
       " 1.4709971066280363,\n",
       " 1.4765075824659322,\n",
       " 1.3519093687616794,\n",
       " 2.565552202244133]"
      ]
     },
     "execution_count": 7,
     "metadata": {},
     "output_type": "execute_result"
    }
   ],
   "source": [
    "results"
   ]
  },
  {
   "cell_type": "markdown",
   "metadata": {},
   "source": [
    "Note that this is not very clever as we can easily parallelize code. \n",
    "\n",
    "There are many ways to parallelize this function in Python with libraries like `multiprocessing`, `concurrent.futures`, `joblib` or others.  These are good first steps.  Dask is a good second step, especially when you want to scale across many machines.\n"
   ]
  },
  {
   "cell_type": "markdown",
   "metadata": {},
   "source": [
    "## Use [Dask Delayed](http://dask.pydata.org/en/latest/delayed.html) to make our function lazy\n",
    "\n",
    "We can call `dask.delayed` on our funtion to make it lazy.  Rather than compute its result immediately, it records what we want to compute as a task into a graph that we'll run later on parallel hardware. Using `dask.delayed` is a relatively straightforward way to parallelize an existing code base, even if the computation isn't embarrassingly parallel like this one. \n",
    "\n",
    "Calling these lazy functions is now almost free.  In the cell below we only construct a simple graph."
   ]
  },
  {
   "cell_type": "code",
   "execution_count": 8,
   "metadata": {
    "execution": {
     "iopub.execute_input": "2021-07-26T20:06:10.153318Z",
     "iopub.status.busy": "2021-07-26T20:06:10.151884Z",
     "iopub.status.idle": "2021-07-26T20:06:10.155543Z",
     "shell.execute_reply": "2021-07-26T20:06:10.156327Z"
    }
   },
   "outputs": [],
   "source": [
    "import dask\n",
    "lazy_results = []"
   ]
  },
  {
   "cell_type": "code",
   "execution_count": 9,
   "metadata": {
    "execution": {
     "iopub.execute_input": "2021-07-26T20:06:10.159105Z",
     "iopub.status.busy": "2021-07-26T20:06:10.158733Z",
     "iopub.status.idle": "2021-07-26T20:06:10.164707Z",
     "shell.execute_reply": "2021-07-26T20:06:10.165393Z"
    }
   },
   "outputs": [
    {
     "name": "stdout",
     "output_type": "stream",
     "text": [
      "CPU times: user 931 µs, sys: 151 µs, total: 1.08 ms\n",
      "Wall time: 1.09 ms\n"
     ]
    }
   ],
   "source": [
    "%%time\n",
    "\n",
    "for parameters in input_params.values[:10]:\n",
    "    lazy_result = dask.delayed(costly_simulation)(parameters)\n",
    "    lazy_results.append(lazy_result)"
   ]
  },
  {
   "cell_type": "code",
   "execution_count": 10,
   "metadata": {
    "execution": {
     "iopub.execute_input": "2021-07-26T20:06:10.167997Z",
     "iopub.status.busy": "2021-07-26T20:06:10.167215Z",
     "iopub.status.idle": "2021-07-26T20:06:10.172550Z",
     "shell.execute_reply": "2021-07-26T20:06:10.173032Z"
    }
   },
   "outputs": [
    {
     "data": {
      "text/plain": [
       "Delayed('costly_simulation-bfb1fdd2-eade-4dc5-bfd1-5edaa340f326')"
      ]
     },
     "execution_count": 10,
     "metadata": {},
     "output_type": "execute_result"
    }
   ],
   "source": [
    "lazy_results[0]"
   ]
  },
  {
   "cell_type": "markdown",
   "metadata": {},
   "source": [
    "## Run in parallel\n",
    "\n",
    "The `lazy_results` list contains information about ten calls to `costly_simulation` that have not yet been run.  Call `.compute()` when you want your result as normal Python objects.\n",
    "\n",
    "If you started `Client()` above then you may want to watch the status page during computation."
   ]
  },
  {
   "cell_type": "code",
   "execution_count": 11,
   "metadata": {
    "execution": {
     "iopub.execute_input": "2021-07-26T20:06:10.175945Z",
     "iopub.status.busy": "2021-07-26T20:06:10.174969Z",
     "iopub.status.idle": "2021-07-26T20:06:11.781752Z",
     "shell.execute_reply": "2021-07-26T20:06:11.781361Z"
    }
   },
   "outputs": [
    {
     "name": "stdout",
     "output_type": "stream",
     "text": [
      "CPU times: user 47 ms, sys: 4.04 ms, total: 51.1 ms\n",
      "Wall time: 1.6 s\n"
     ]
    },
    {
     "data": {
      "text/plain": [
       "(1.7540667141062602,\n",
       " 2.208689573214757,\n",
       " 1.8390213425098947,\n",
       " 1.6430581509616942,\n",
       " 1.038111935388933,\n",
       " 1.8563985394209288,\n",
       " 1.4709971066280363,\n",
       " 1.4765075824659322,\n",
       " 1.3519093687616794,\n",
       " 2.565552202244133)"
      ]
     },
     "execution_count": 11,
     "metadata": {},
     "output_type": "execute_result"
    }
   ],
   "source": [
    "%time dask.compute(*lazy_results)"
   ]
  },
  {
   "cell_type": "markdown",
   "metadata": {},
   "source": [
    "Notice that this was faster than running these same computations sequentially with a for loop.  "
   ]
  },
  {
   "cell_type": "markdown",
   "metadata": {},
   "source": [
    "We can now run this on all of our input parameters:"
   ]
  },
  {
   "cell_type": "code",
   "execution_count": 12,
   "metadata": {
    "execution": {
     "iopub.execute_input": "2021-07-26T20:06:11.787437Z",
     "iopub.status.busy": "2021-07-26T20:06:11.786917Z",
     "iopub.status.idle": "2021-07-26T20:06:11.867658Z",
     "shell.execute_reply": "2021-07-26T20:06:11.866939Z"
    }
   },
   "outputs": [],
   "source": [
    "import dask\n",
    "lazy_results = []\n",
    "\n",
    "for parameters in input_params.values:\n",
    "    lazy_result = dask.delayed(costly_simulation)(parameters)\n",
    "    lazy_results.append(lazy_result)\n",
    "    \n",
    "futures = dask.persist(*lazy_results)  # trigger computation in the background"
   ]
  },
  {
   "cell_type": "markdown",
   "metadata": {},
   "source": [
    "To make this go faster, we can add additional workers.\n",
    "\n",
    "(although we're still only working on our local machine, this is more practical when using an actual cluster)"
   ]
  },
  {
   "cell_type": "code",
   "execution_count": 13,
   "metadata": {
    "execution": {
     "iopub.execute_input": "2021-07-26T20:06:11.872368Z",
     "iopub.status.busy": "2021-07-26T20:06:11.871895Z",
     "iopub.status.idle": "2021-07-26T20:06:11.875665Z",
     "shell.execute_reply": "2021-07-26T20:06:11.875141Z"
    }
   },
   "outputs": [],
   "source": [
    "client.cluster.scale(10)  # ask for ten 4-thread workers"
   ]
  },
  {
   "cell_type": "markdown",
   "metadata": {},
   "source": [
    "By looking at the Dask dashboard we can see that Dask spreads this work around our cluster, managing load balancing, dependencies, etc..\n",
    "\n",
    "Then get the result:"
   ]
  },
  {
   "cell_type": "code",
   "execution_count": 14,
   "metadata": {
    "execution": {
     "iopub.execute_input": "2021-07-26T20:06:11.888990Z",
     "iopub.status.busy": "2021-07-26T20:06:11.888536Z",
     "iopub.status.idle": "2021-07-26T20:06:21.017067Z",
     "shell.execute_reply": "2021-07-26T20:06:21.017682Z"
    }
   },
   "outputs": [
    {
     "data": {
      "text/plain": [
       "(1.7540667141062602,\n",
       " 2.208689573214757,\n",
       " 1.8390213425098947,\n",
       " 1.6430581509616942,\n",
       " 1.038111935388933)"
      ]
     },
     "execution_count": 14,
     "metadata": {},
     "output_type": "execute_result"
    }
   ],
   "source": [
    "results = dask.compute(*futures)\n",
    "results[:5]"
   ]
  },
  {
   "cell_type": "markdown",
   "metadata": {},
   "source": [
    "## Using the [Futures API](http://dask.pydata.org/en/latest/futures.html)\n",
    "\n",
    "The same example can be implemented using Dask's Futures API by using the `client` object itself.  For our use case of applying a function across many inputs both Dask delayed and Dask Futures are equally useful.  The Futures API is a little bit different because it starts work immediately rather than being completely lazy.\n",
    "\n",
    "For example, notice that work starts immediately in the cell below as we submit work to the cluster:"
   ]
  },
  {
   "cell_type": "code",
   "execution_count": 15,
   "metadata": {
    "execution": {
     "iopub.execute_input": "2021-07-26T20:06:21.022146Z",
     "iopub.status.busy": "2021-07-26T20:06:21.021657Z",
     "iopub.status.idle": "2021-07-26T20:06:21.318063Z",
     "shell.execute_reply": "2021-07-26T20:06:21.317331Z"
    }
   },
   "outputs": [],
   "source": [
    "futures = []\n",
    "for parameters in input_params.values:\n",
    "    future = client.submit(costly_simulation, parameters)\n",
    "    futures.append(future)"
   ]
  },
  {
   "cell_type": "markdown",
   "metadata": {},
   "source": [
    "We can explicitly wait until this work is done and gather the results to our local process by calling `client.gather`:"
   ]
  },
  {
   "cell_type": "code",
   "execution_count": 16,
   "metadata": {
    "execution": {
     "iopub.execute_input": "2021-07-26T20:06:21.329709Z",
     "iopub.status.busy": "2021-07-26T20:06:21.329358Z",
     "iopub.status.idle": "2021-07-26T20:06:28.349398Z",
     "shell.execute_reply": "2021-07-26T20:06:28.348970Z"
    }
   },
   "outputs": [
    {
     "data": {
      "text/plain": [
       "[1.7540667141062602,\n",
       " 2.208689573214757,\n",
       " 1.8390213425098947,\n",
       " 1.6430581509616942,\n",
       " 1.038111935388933]"
      ]
     },
     "execution_count": 16,
     "metadata": {},
     "output_type": "execute_result"
    }
   ],
   "source": [
    "results = client.gather(futures)\n",
    "results[:5]"
   ]
  },
  {
   "cell_type": "markdown",
   "metadata": {},
   "source": [
    "But the code above can be run in fewer lines with `client.map()` function, allowing to call a given function on a list of parameters.\n",
    "\n",
    "As for delayed, we can only start the computation and not wait for results by not calling `client.gather()` right now.\n",
    "\n",
    "It shall be noted that as Dask cluster has already performed tasks launching `costly_simulation` with Futures API on the given input parameters, the call to `client.map()` won't actually trigger any computation, and just retrieve already computed results."
   ]
  },
  {
   "cell_type": "code",
   "execution_count": 17,
   "metadata": {
    "execution": {
     "iopub.execute_input": "2021-07-26T20:06:28.353027Z",
     "iopub.status.busy": "2021-07-26T20:06:28.352001Z",
     "iopub.status.idle": "2021-07-26T20:06:28.464678Z",
     "shell.execute_reply": "2021-07-26T20:06:28.459799Z"
    }
   },
   "outputs": [],
   "source": [
    "futures = client.map(costly_simulation, input_params.values)"
   ]
  },
  {
   "cell_type": "markdown",
   "metadata": {},
   "source": [
    "Then just get the results later:"
   ]
  },
  {
   "cell_type": "code",
   "execution_count": 18,
   "metadata": {
    "execution": {
     "iopub.execute_input": "2021-07-26T20:06:28.469597Z",
     "iopub.status.busy": "2021-07-26T20:06:28.469109Z",
     "iopub.status.idle": "2021-07-26T20:06:28.636220Z",
     "shell.execute_reply": "2021-07-26T20:06:28.634657Z"
    }
   },
   "outputs": [
    {
     "data": {
      "text/plain": [
       "500"
      ]
     },
     "execution_count": 18,
     "metadata": {},
     "output_type": "execute_result"
    }
   ],
   "source": [
    "results = client.gather(futures)\n",
    "len(results)"
   ]
  },
  {
   "cell_type": "code",
   "execution_count": 19,
   "metadata": {
    "execution": {
     "iopub.execute_input": "2021-07-26T20:06:28.638763Z",
     "iopub.status.busy": "2021-07-26T20:06:28.638070Z",
     "iopub.status.idle": "2021-07-26T20:06:28.645825Z",
     "shell.execute_reply": "2021-07-26T20:06:28.646395Z"
    }
   },
   "outputs": [
    {
     "name": "stdout",
     "output_type": "stream",
     "text": [
      "1.7540667141062602\n"
     ]
    }
   ],
   "source": [
    "print(results[0])"
   ]
  },
  {
   "cell_type": "markdown",
   "metadata": {},
   "source": [
    "We encourage you to watch the [dashboard's status page](../proxy/8787/status) to watch on going computation."
   ]
  },
  {
   "cell_type": "markdown",
   "metadata": {},
   "source": [
    "## Doing some analysis on the results\n",
    "\n",
    "One of the interests of Dask here, outside from API simplicity, is that you are able to gather the result for all your simulations in one call.  There is no need to implement a complex mechanism or to write individual results in a shared file system or object store.\n",
    "\n",
    "Just get your result, and do some computation."
   ]
  },
  {
   "cell_type": "markdown",
   "metadata": {},
   "source": [
    "Here, we will just get the results and expand our initial dataframe to have a nice view of parameters vs results for our computation"
   ]
  },
  {
   "cell_type": "code",
   "execution_count": 20,
   "metadata": {
    "execution": {
     "iopub.execute_input": "2021-07-26T20:06:28.657283Z",
     "iopub.status.busy": "2021-07-26T20:06:28.648197Z",
     "iopub.status.idle": "2021-07-26T20:06:28.689119Z",
     "shell.execute_reply": "2021-07-26T20:06:28.690109Z"
    }
   },
   "outputs": [
    {
     "data": {
      "text/html": [
       "<div>\n",
       "<style scoped>\n",
       "    .dataframe tbody tr th:only-of-type {\n",
       "        vertical-align: middle;\n",
       "    }\n",
       "\n",
       "    .dataframe tbody tr th {\n",
       "        vertical-align: top;\n",
       "    }\n",
       "\n",
       "    .dataframe thead th {\n",
       "        text-align: right;\n",
       "    }\n",
       "</style>\n",
       "<table border=\"1\" class=\"dataframe\">\n",
       "  <thead>\n",
       "    <tr style=\"text-align: right;\">\n",
       "      <th></th>\n",
       "      <th>param_a</th>\n",
       "      <th>param_b</th>\n",
       "      <th>param_c</th>\n",
       "      <th>param_d</th>\n",
       "      <th>result</th>\n",
       "    </tr>\n",
       "  </thead>\n",
       "  <tbody>\n",
       "    <tr>\n",
       "      <th>80</th>\n",
       "      <td>0.950137</td>\n",
       "      <td>0.291745</td>\n",
       "      <td>0.209692</td>\n",
       "      <td>0.437490</td>\n",
       "      <td>1.889064</td>\n",
       "    </tr>\n",
       "    <tr>\n",
       "      <th>125</th>\n",
       "      <td>0.556598</td>\n",
       "      <td>0.196121</td>\n",
       "      <td>0.337949</td>\n",
       "      <td>0.348682</td>\n",
       "      <td>1.439349</td>\n",
       "    </tr>\n",
       "    <tr>\n",
       "      <th>184</th>\n",
       "      <td>0.849852</td>\n",
       "      <td>0.736315</td>\n",
       "      <td>0.395216</td>\n",
       "      <td>0.794867</td>\n",
       "      <td>2.776250</td>\n",
       "    </tr>\n",
       "    <tr>\n",
       "      <th>244</th>\n",
       "      <td>0.323603</td>\n",
       "      <td>0.837424</td>\n",
       "      <td>0.655208</td>\n",
       "      <td>0.194435</td>\n",
       "      <td>2.010670</td>\n",
       "    </tr>\n",
       "    <tr>\n",
       "      <th>82</th>\n",
       "      <td>0.868114</td>\n",
       "      <td>0.934638</td>\n",
       "      <td>0.019646</td>\n",
       "      <td>0.907173</td>\n",
       "      <td>2.729570</td>\n",
       "    </tr>\n",
       "  </tbody>\n",
       "</table>\n",
       "</div>"
      ],
      "text/plain": [
       "      param_a   param_b   param_c   param_d    result\n",
       "80   0.950137  0.291745  0.209692  0.437490  1.889064\n",
       "125  0.556598  0.196121  0.337949  0.348682  1.439349\n",
       "184  0.849852  0.736315  0.395216  0.794867  2.776250\n",
       "244  0.323603  0.837424  0.655208  0.194435  2.010670\n",
       "82   0.868114  0.934638  0.019646  0.907173  2.729570"
      ]
     },
     "execution_count": 20,
     "metadata": {},
     "output_type": "execute_result"
    }
   ],
   "source": [
    "output = input_params.copy()\n",
    "output['result'] = pd.Series(results, index=output.index)\n",
    "output.sample(5)"
   ]
  },
  {
   "cell_type": "markdown",
   "metadata": {},
   "source": [
    "Then we can do some nice statistical plots or save result locally with pandas interface here"
   ]
  },
  {
   "cell_type": "code",
   "execution_count": 21,
   "metadata": {
    "execution": {
     "iopub.execute_input": "2021-07-26T20:06:28.694951Z",
     "iopub.status.busy": "2021-07-26T20:06:28.692601Z",
     "iopub.status.idle": "2021-07-26T20:06:30.014404Z",
     "shell.execute_reply": "2021-07-26T20:06:30.013995Z"
    }
   },
   "outputs": [
    {
     "data": {
      "text/plain": [
       "<AxesSubplot:>"
      ]
     },
     "execution_count": 21,
     "metadata": {},
     "output_type": "execute_result"
    },
    {
     "data": {
      "image/png": "[encoded data removed]",
      "text/plain": [
       "<Figure size 432x288 with 1 Axes>"
      ]
     },
     "metadata": {
      "needs_background": "light"
     },
     "output_type": "display_data"
    }
   ],
   "source": [
    "%matplotlib inline\n",
    "output['result'].plot()"
   ]
  },
  {
   "cell_type": "code",
   "execution_count": 22,
   "metadata": {
    "execution": {
     "iopub.execute_input": "2021-07-26T20:06:30.018641Z",
     "iopub.status.busy": "2021-07-26T20:06:30.018092Z",
     "iopub.status.idle": "2021-07-26T20:06:30.020709Z",
     "shell.execute_reply": "2021-07-26T20:06:30.021072Z"
    }
   },
   "outputs": [
    {
     "data": {
      "text/plain": [
       "2.026037905711436"
      ]
     },
     "execution_count": 22,
     "metadata": {},
     "output_type": "execute_result"
    }
   ],
   "source": [
    "output['result'].mean()"
   ]
  },
  {
   "cell_type": "code",
   "execution_count": 23,
   "metadata": {
    "execution": {
     "iopub.execute_input": "2021-07-26T20:06:30.023358Z",
     "iopub.status.busy": "2021-07-26T20:06:30.022905Z",
     "iopub.status.idle": "2021-07-26T20:06:30.039835Z",
     "shell.execute_reply": "2021-07-26T20:06:30.040493Z"
    }
   },
   "outputs": [
    {
     "name": "stdout",
     "output_type": "stream",
     "text": [
      "263\n"
     ]
    }
   ],
   "source": [
    "filtered_output = output[output['result'] > 2]\n",
    "print(len(filtered_output))\n",
    "filtered_output.to_csv('/tmp/simulation_result.csv')"
   ]
  },
  {
   "cell_type": "markdown",
   "metadata": {},
   "source": [
    "## Handling very large simulation with [Bags](http://dask.pydata.org/en/latest/bag.html)\n",
    "\n",
    "The methods above work well for a size of input parameters up to about 100,000.  Above that, the Dask scheduler has trouble handling the amount of tasks to schedule to workers.  The solution to this problem is to bundle many parameters into a single task.\n",
    "You could do this either by making a new function that operated on a batch of parameters and using the delayed or futures APIs on that function.  You could also use the Dask Bag API.  This is described more in the documentation about [avoiding too many tasks](http://dask.pydata.org/en/latest/delayed-best-practices.html#avoid-too-many-tasks).\n",
    "\n",
    "Dask Bags hold onto large sequences in a few partitions.  We can convert our `input_params` sequence into a `dask.bag` collection, asking for fewer partitions (so at most 100,000, which is already huge), and apply our function on every item of the bag."
   ]
  },
  {
   "cell_type": "code",
   "execution_count": 24,
   "metadata": {
    "execution": {
     "iopub.execute_input": "2021-07-26T20:06:30.043628Z",
     "iopub.status.busy": "2021-07-26T20:06:30.043043Z",
     "iopub.status.idle": "2021-07-26T20:06:30.210960Z",
     "shell.execute_reply": "2021-07-26T20:06:30.211355Z"
    }
   },
   "outputs": [],
   "source": [
    "import dask.bag as db\n",
    "b = db.from_sequence(list(input_params.values), npartitions=100)\n",
    "b = b.map(costly_simulation)"
   ]
  },
  {
   "cell_type": "code",
   "execution_count": 25,
   "metadata": {
    "execution": {
     "iopub.execute_input": "2021-07-26T20:06:30.213997Z",
     "iopub.status.busy": "2021-07-26T20:06:30.213436Z",
     "iopub.status.idle": "2021-07-26T20:06:39.681677Z",
     "shell.execute_reply": "2021-07-26T20:06:39.680932Z"
    }
   },
   "outputs": [
    {
     "name": "stdout",
     "output_type": "stream",
     "text": [
      "CPU times: user 755 ms, sys: 93.7 ms, total: 848 ms\n",
      "Wall time: 9.46 s\n"
     ]
    }
   ],
   "source": [
    "%time results_bag = b.compute()"
   ]
  },
  {
   "cell_type": "markdown",
   "metadata": {},
   "source": [
    "Looking on Dashboard here, you should see only 100 tasks to run instead of 500, each taking 5x more time in average, because each one is actually calling our function 5 times."
   ]
  },
  {
   "cell_type": "code",
   "execution_count": 26,
   "metadata": {
    "execution": {
     "iopub.execute_input": "2021-07-26T20:06:39.686461Z",
     "iopub.status.busy": "2021-07-26T20:06:39.685808Z",
     "iopub.status.idle": "2021-07-26T20:06:39.689008Z",
     "shell.execute_reply": "2021-07-26T20:06:39.689372Z"
    }
   },
   "outputs": [
    {
     "data": {
      "text/plain": [
       "True"
      ]
     },
     "execution_count": 26,
     "metadata": {},
     "output_type": "execute_result"
    }
   ],
   "source": [
    "np.all(results) == np.all(results_bag)"
   ]
  }
 ],
 "metadata": {
  "anaconda-cloud": {},
  "kernelspec": {
   "display_name": "Python 3",
   "language": "python",
   "name": "python3"
  },
  "language_info": {
   "codemirror_mode": {
    "name": "ipython",
    "version": 3
   },
   "file_extension": ".py",
   "mimetype": "text/x-python",
   "name": "python",
   "nbconvert_exporter": "python",
   "pygments_lexer": "ipython3",
   "version": "3.8.10"
  }
 },
 "nbformat": 4,
 "nbformat_minor": 4
}
